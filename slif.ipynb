{
 "cells": [
  {
   "cell_type": "markdown",
   "metadata": {},
   "source": [
    "# Libraries"
   ]
  },
  {
   "cell_type": "code",
   "execution_count": 3,
   "metadata": {},
   "outputs": [
    {
     "data": {
      "text/html": [
       "\n",
       "    <div class=\"bk-root\">\n",
       "        <a href=\"https://bokeh.org\" target=\"_blank\" class=\"bk-logo bk-logo-small bk-logo-notebook\"></a>\n",
       "        <span id=\"1001\">Loading BokehJS ...</span>\n",
       "    </div>"
      ]
     },
     "metadata": {},
     "output_type": "display_data"
    },
    {
     "data": {
      "application/javascript": [
       "\n",
       "(function(root) {\n",
       "  function now() {\n",
       "    return new Date();\n",
       "  }\n",
       "\n",
       "  var force = true;\n",
       "\n",
       "  if (typeof root._bokeh_onload_callbacks === \"undefined\" || force === true) {\n",
       "    root._bokeh_onload_callbacks = [];\n",
       "    root._bokeh_is_loading = undefined;\n",
       "  }\n",
       "\n",
       "  var JS_MIME_TYPE = 'application/javascript';\n",
       "  var HTML_MIME_TYPE = 'text/html';\n",
       "  var EXEC_MIME_TYPE = 'application/vnd.bokehjs_exec.v0+json';\n",
       "  var CLASS_NAME = 'output_bokeh rendered_html';\n",
       "\n",
       "  /**\n",
       "   * Render data to the DOM node\n",
       "   */\n",
       "  function render(props, node) {\n",
       "    var script = document.createElement(\"script\");\n",
       "    node.appendChild(script);\n",
       "  }\n",
       "\n",
       "  /**\n",
       "   * Handle when an output is cleared or removed\n",
       "   */\n",
       "  function handleClearOutput(event, handle) {\n",
       "    var cell = handle.cell;\n",
       "\n",
       "    var id = cell.output_area._bokeh_element_id;\n",
       "    var server_id = cell.output_area._bokeh_server_id;\n",
       "    // Clean up Bokeh references\n",
       "    if (id != null && id in Bokeh.index) {\n",
       "      Bokeh.index[id].model.document.clear();\n",
       "      delete Bokeh.index[id];\n",
       "    }\n",
       "\n",
       "    if (server_id !== undefined) {\n",
       "      // Clean up Bokeh references\n",
       "      var cmd = \"from bokeh.io.state import curstate; print(curstate().uuid_to_server['\" + server_id + \"'].get_sessions()[0].document.roots[0]._id)\";\n",
       "      cell.notebook.kernel.execute(cmd, {\n",
       "        iopub: {\n",
       "          output: function(msg) {\n",
       "            var id = msg.content.text.trim();\n",
       "            if (id in Bokeh.index) {\n",
       "              Bokeh.index[id].model.document.clear();\n",
       "              delete Bokeh.index[id];\n",
       "            }\n",
       "          }\n",
       "        }\n",
       "      });\n",
       "      // Destroy server and session\n",
       "      var cmd = \"import bokeh.io.notebook as ion; ion.destroy_server('\" + server_id + \"')\";\n",
       "      cell.notebook.kernel.execute(cmd);\n",
       "    }\n",
       "  }\n",
       "\n",
       "  /**\n",
       "   * Handle when a new output is added\n",
       "   */\n",
       "  function handleAddOutput(event, handle) {\n",
       "    var output_area = handle.output_area;\n",
       "    var output = handle.output;\n",
       "\n",
       "    // limit handleAddOutput to display_data with EXEC_MIME_TYPE content only\n",
       "    if ((output.output_type != \"display_data\") || (!output.data.hasOwnProperty(EXEC_MIME_TYPE))) {\n",
       "      return\n",
       "    }\n",
       "\n",
       "    var toinsert = output_area.element.find(\".\" + CLASS_NAME.split(' ')[0]);\n",
       "\n",
       "    if (output.metadata[EXEC_MIME_TYPE][\"id\"] !== undefined) {\n",
       "      toinsert[toinsert.length - 1].firstChild.textContent = output.data[JS_MIME_TYPE];\n",
       "      // store reference to embed id on output_area\n",
       "      output_area._bokeh_element_id = output.metadata[EXEC_MIME_TYPE][\"id\"];\n",
       "    }\n",
       "    if (output.metadata[EXEC_MIME_TYPE][\"server_id\"] !== undefined) {\n",
       "      var bk_div = document.createElement(\"div\");\n",
       "      bk_div.innerHTML = output.data[HTML_MIME_TYPE];\n",
       "      var script_attrs = bk_div.children[0].attributes;\n",
       "      for (var i = 0; i < script_attrs.length; i++) {\n",
       "        toinsert[toinsert.length - 1].firstChild.setAttribute(script_attrs[i].name, script_attrs[i].value);\n",
       "      }\n",
       "      // store reference to server id on output_area\n",
       "      output_area._bokeh_server_id = output.metadata[EXEC_MIME_TYPE][\"server_id\"];\n",
       "    }\n",
       "  }\n",
       "\n",
       "  function register_renderer(events, OutputArea) {\n",
       "\n",
       "    function append_mime(data, metadata, element) {\n",
       "      // create a DOM node to render to\n",
       "      var toinsert = this.create_output_subarea(\n",
       "        metadata,\n",
       "        CLASS_NAME,\n",
       "        EXEC_MIME_TYPE\n",
       "      );\n",
       "      this.keyboard_manager.register_events(toinsert);\n",
       "      // Render to node\n",
       "      var props = {data: data, metadata: metadata[EXEC_MIME_TYPE]};\n",
       "      render(props, toinsert[toinsert.length - 1]);\n",
       "      element.append(toinsert);\n",
       "      return toinsert\n",
       "    }\n",
       "\n",
       "    /* Handle when an output is cleared or removed */\n",
       "    events.on('clear_output.CodeCell', handleClearOutput);\n",
       "    events.on('delete.Cell', handleClearOutput);\n",
       "\n",
       "    /* Handle when a new output is added */\n",
       "    events.on('output_added.OutputArea', handleAddOutput);\n",
       "\n",
       "    /**\n",
       "     * Register the mime type and append_mime function with output_area\n",
       "     */\n",
       "    OutputArea.prototype.register_mime_type(EXEC_MIME_TYPE, append_mime, {\n",
       "      /* Is output safe? */\n",
       "      safe: true,\n",
       "      /* Index of renderer in `output_area.display_order` */\n",
       "      index: 0\n",
       "    });\n",
       "  }\n",
       "\n",
       "  // register the mime type if in Jupyter Notebook environment and previously unregistered\n",
       "  if (root.Jupyter !== undefined) {\n",
       "    var events = require('base/js/events');\n",
       "    var OutputArea = require('notebook/js/outputarea').OutputArea;\n",
       "\n",
       "    if (OutputArea.prototype.mime_types().indexOf(EXEC_MIME_TYPE) == -1) {\n",
       "      register_renderer(events, OutputArea);\n",
       "    }\n",
       "  }\n",
       "\n",
       "  \n",
       "  if (typeof (root._bokeh_timeout) === \"undefined\" || force === true) {\n",
       "    root._bokeh_timeout = Date.now() + 5000;\n",
       "    root._bokeh_failed_load = false;\n",
       "  }\n",
       "\n",
       "  var NB_LOAD_WARNING = {'data': {'text/html':\n",
       "     \"<div style='background-color: #fdd'>\\n\"+\n",
       "     \"<p>\\n\"+\n",
       "     \"BokehJS does not appear to have successfully loaded. If loading BokehJS from CDN, this \\n\"+\n",
       "     \"may be due to a slow or bad network connection. Possible fixes:\\n\"+\n",
       "     \"</p>\\n\"+\n",
       "     \"<ul>\\n\"+\n",
       "     \"<li>re-rerun `output_notebook()` to attempt to load from CDN again, or</li>\\n\"+\n",
       "     \"<li>use INLINE resources instead, as so:</li>\\n\"+\n",
       "     \"</ul>\\n\"+\n",
       "     \"<code>\\n\"+\n",
       "     \"from bokeh.resources import INLINE\\n\"+\n",
       "     \"output_notebook(resources=INLINE)\\n\"+\n",
       "     \"</code>\\n\"+\n",
       "     \"</div>\"}};\n",
       "\n",
       "  function display_loaded() {\n",
       "    var el = document.getElementById(\"1001\");\n",
       "    if (el != null) {\n",
       "      el.textContent = \"BokehJS is loading...\";\n",
       "    }\n",
       "    if (root.Bokeh !== undefined) {\n",
       "      if (el != null) {\n",
       "        el.textContent = \"BokehJS \" + root.Bokeh.version + \" successfully loaded.\";\n",
       "      }\n",
       "    } else if (Date.now() < root._bokeh_timeout) {\n",
       "      setTimeout(display_loaded, 100)\n",
       "    }\n",
       "  }\n",
       "\n",
       "\n",
       "  function run_callbacks() {\n",
       "    try {\n",
       "      root._bokeh_onload_callbacks.forEach(function(callback) {\n",
       "        if (callback != null)\n",
       "          callback();\n",
       "      });\n",
       "    } finally {\n",
       "      delete root._bokeh_onload_callbacks\n",
       "    }\n",
       "    console.debug(\"Bokeh: all callbacks have finished\");\n",
       "  }\n",
       "\n",
       "  function load_libs(css_urls, js_urls, callback) {\n",
       "    if (css_urls == null) css_urls = [];\n",
       "    if (js_urls == null) js_urls = [];\n",
       "\n",
       "    root._bokeh_onload_callbacks.push(callback);\n",
       "    if (root._bokeh_is_loading > 0) {\n",
       "      console.debug(\"Bokeh: BokehJS is being loaded, scheduling callback at\", now());\n",
       "      return null;\n",
       "    }\n",
       "    if (js_urls == null || js_urls.length === 0) {\n",
       "      run_callbacks();\n",
       "      return null;\n",
       "    }\n",
       "    console.debug(\"Bokeh: BokehJS not loaded, scheduling load and callback at\", now());\n",
       "    root._bokeh_is_loading = css_urls.length + js_urls.length;\n",
       "\n",
       "    function on_load() {\n",
       "      root._bokeh_is_loading--;\n",
       "      if (root._bokeh_is_loading === 0) {\n",
       "        console.debug(\"Bokeh: all BokehJS libraries/stylesheets loaded\");\n",
       "        run_callbacks()\n",
       "      }\n",
       "    }\n",
       "\n",
       "    function on_error() {\n",
       "      console.error(\"failed to load \" + url);\n",
       "    }\n",
       "\n",
       "    for (var i = 0; i < css_urls.length; i++) {\n",
       "      var url = css_urls[i];\n",
       "      const element = document.createElement(\"link\");\n",
       "      element.onload = on_load;\n",
       "      element.onerror = on_error;\n",
       "      element.rel = \"stylesheet\";\n",
       "      element.type = \"text/css\";\n",
       "      element.href = url;\n",
       "      console.debug(\"Bokeh: injecting link tag for BokehJS stylesheet: \", url);\n",
       "      document.body.appendChild(element);\n",
       "    }\n",
       "\n",
       "    for (var i = 0; i < js_urls.length; i++) {\n",
       "      var url = js_urls[i];\n",
       "      var element = document.createElement('script');\n",
       "      element.onload = on_load;\n",
       "      element.onerror = on_error;\n",
       "      element.async = false;\n",
       "      element.src = url;\n",
       "      console.debug(\"Bokeh: injecting script tag for BokehJS library: \", url);\n",
       "      document.head.appendChild(element);\n",
       "    }\n",
       "  };var element = document.getElementById(\"1001\");\n",
       "  if (element == null) {\n",
       "    console.error(\"Bokeh: ERROR: autoload.js configured with elementid '1001' but no matching script tag was found. \")\n",
       "    return false;\n",
       "  }\n",
       "\n",
       "  function inject_raw_css(css) {\n",
       "    const element = document.createElement(\"style\");\n",
       "    element.appendChild(document.createTextNode(css));\n",
       "    document.body.appendChild(element);\n",
       "  }\n",
       "\n",
       "  \n",
       "  var js_urls = [\"https://cdn.pydata.org/bokeh/release/bokeh-1.4.0.min.js\", \"https://cdn.pydata.org/bokeh/release/bokeh-widgets-1.4.0.min.js\", \"https://cdn.pydata.org/bokeh/release/bokeh-tables-1.4.0.min.js\", \"https://cdn.pydata.org/bokeh/release/bokeh-gl-1.4.0.min.js\"];\n",
       "  var css_urls = [];\n",
       "  \n",
       "\n",
       "  var inline_js = [\n",
       "    function(Bokeh) {\n",
       "      Bokeh.set_log_level(\"info\");\n",
       "    },\n",
       "    function(Bokeh) {\n",
       "    \n",
       "    \n",
       "    }\n",
       "  ];\n",
       "\n",
       "  function run_inline_js() {\n",
       "    \n",
       "    if (root.Bokeh !== undefined || force === true) {\n",
       "      \n",
       "    for (var i = 0; i < inline_js.length; i++) {\n",
       "      inline_js[i].call(root, root.Bokeh);\n",
       "    }\n",
       "    if (force === true) {\n",
       "        display_loaded();\n",
       "      }} else if (Date.now() < root._bokeh_timeout) {\n",
       "      setTimeout(run_inline_js, 100);\n",
       "    } else if (!root._bokeh_failed_load) {\n",
       "      console.log(\"Bokeh: BokehJS failed to load within specified timeout.\");\n",
       "      root._bokeh_failed_load = true;\n",
       "    } else if (force !== true) {\n",
       "      var cell = $(document.getElementById(\"1001\")).parents('.cell').data().cell;\n",
       "      cell.output_area.append_execute_result(NB_LOAD_WARNING)\n",
       "    }\n",
       "\n",
       "  }\n",
       "\n",
       "  if (root._bokeh_is_loading === 0) {\n",
       "    console.debug(\"Bokeh: BokehJS loaded, going straight to plotting\");\n",
       "    run_inline_js();\n",
       "  } else {\n",
       "    load_libs(css_urls, js_urls, function() {\n",
       "      console.debug(\"Bokeh: BokehJS plotting callback run at\", now());\n",
       "      run_inline_js();\n",
       "    });\n",
       "  }\n",
       "}(window));"
      ],
      "application/vnd.bokehjs_load.v0+json": "\n(function(root) {\n  function now() {\n    return new Date();\n  }\n\n  var force = true;\n\n  if (typeof root._bokeh_onload_callbacks === \"undefined\" || force === true) {\n    root._bokeh_onload_callbacks = [];\n    root._bokeh_is_loading = undefined;\n  }\n\n  \n\n  \n  if (typeof (root._bokeh_timeout) === \"undefined\" || force === true) {\n    root._bokeh_timeout = Date.now() + 5000;\n    root._bokeh_failed_load = false;\n  }\n\n  var NB_LOAD_WARNING = {'data': {'text/html':\n     \"<div style='background-color: #fdd'>\\n\"+\n     \"<p>\\n\"+\n     \"BokehJS does not appear to have successfully loaded. If loading BokehJS from CDN, this \\n\"+\n     \"may be due to a slow or bad network connection. Possible fixes:\\n\"+\n     \"</p>\\n\"+\n     \"<ul>\\n\"+\n     \"<li>re-rerun `output_notebook()` to attempt to load from CDN again, or</li>\\n\"+\n     \"<li>use INLINE resources instead, as so:</li>\\n\"+\n     \"</ul>\\n\"+\n     \"<code>\\n\"+\n     \"from bokeh.resources import INLINE\\n\"+\n     \"output_notebook(resources=INLINE)\\n\"+\n     \"</code>\\n\"+\n     \"</div>\"}};\n\n  function display_loaded() {\n    var el = document.getElementById(\"1001\");\n    if (el != null) {\n      el.textContent = \"BokehJS is loading...\";\n    }\n    if (root.Bokeh !== undefined) {\n      if (el != null) {\n        el.textContent = \"BokehJS \" + root.Bokeh.version + \" successfully loaded.\";\n      }\n    } else if (Date.now() < root._bokeh_timeout) {\n      setTimeout(display_loaded, 100)\n    }\n  }\n\n\n  function run_callbacks() {\n    try {\n      root._bokeh_onload_callbacks.forEach(function(callback) {\n        if (callback != null)\n          callback();\n      });\n    } finally {\n      delete root._bokeh_onload_callbacks\n    }\n    console.debug(\"Bokeh: all callbacks have finished\");\n  }\n\n  function load_libs(css_urls, js_urls, callback) {\n    if (css_urls == null) css_urls = [];\n    if (js_urls == null) js_urls = [];\n\n    root._bokeh_onload_callbacks.push(callback);\n    if (root._bokeh_is_loading > 0) {\n      console.debug(\"Bokeh: BokehJS is being loaded, scheduling callback at\", now());\n      return null;\n    }\n    if (js_urls == null || js_urls.length === 0) {\n      run_callbacks();\n      return null;\n    }\n    console.debug(\"Bokeh: BokehJS not loaded, scheduling load and callback at\", now());\n    root._bokeh_is_loading = css_urls.length + js_urls.length;\n\n    function on_load() {\n      root._bokeh_is_loading--;\n      if (root._bokeh_is_loading === 0) {\n        console.debug(\"Bokeh: all BokehJS libraries/stylesheets loaded\");\n        run_callbacks()\n      }\n    }\n\n    function on_error() {\n      console.error(\"failed to load \" + url);\n    }\n\n    for (var i = 0; i < css_urls.length; i++) {\n      var url = css_urls[i];\n      const element = document.createElement(\"link\");\n      element.onload = on_load;\n      element.onerror = on_error;\n      element.rel = \"stylesheet\";\n      element.type = \"text/css\";\n      element.href = url;\n      console.debug(\"Bokeh: injecting link tag for BokehJS stylesheet: \", url);\n      document.body.appendChild(element);\n    }\n\n    for (var i = 0; i < js_urls.length; i++) {\n      var url = js_urls[i];\n      var element = document.createElement('script');\n      element.onload = on_load;\n      element.onerror = on_error;\n      element.async = false;\n      element.src = url;\n      console.debug(\"Bokeh: injecting script tag for BokehJS library: \", url);\n      document.head.appendChild(element);\n    }\n  };var element = document.getElementById(\"1001\");\n  if (element == null) {\n    console.error(\"Bokeh: ERROR: autoload.js configured with elementid '1001' but no matching script tag was found. \")\n    return false;\n  }\n\n  function inject_raw_css(css) {\n    const element = document.createElement(\"style\");\n    element.appendChild(document.createTextNode(css));\n    document.body.appendChild(element);\n  }\n\n  \n  var js_urls = [\"https://cdn.pydata.org/bokeh/release/bokeh-1.4.0.min.js\", \"https://cdn.pydata.org/bokeh/release/bokeh-widgets-1.4.0.min.js\", \"https://cdn.pydata.org/bokeh/release/bokeh-tables-1.4.0.min.js\", \"https://cdn.pydata.org/bokeh/release/bokeh-gl-1.4.0.min.js\"];\n  var css_urls = [];\n  \n\n  var inline_js = [\n    function(Bokeh) {\n      Bokeh.set_log_level(\"info\");\n    },\n    function(Bokeh) {\n    \n    \n    }\n  ];\n\n  function run_inline_js() {\n    \n    if (root.Bokeh !== undefined || force === true) {\n      \n    for (var i = 0; i < inline_js.length; i++) {\n      inline_js[i].call(root, root.Bokeh);\n    }\n    if (force === true) {\n        display_loaded();\n      }} else if (Date.now() < root._bokeh_timeout) {\n      setTimeout(run_inline_js, 100);\n    } else if (!root._bokeh_failed_load) {\n      console.log(\"Bokeh: BokehJS failed to load within specified timeout.\");\n      root._bokeh_failed_load = true;\n    } else if (force !== true) {\n      var cell = $(document.getElementById(\"1001\")).parents('.cell').data().cell;\n      cell.output_area.append_execute_result(NB_LOAD_WARNING)\n    }\n\n  }\n\n  if (root._bokeh_is_loading === 0) {\n    console.debug(\"Bokeh: BokehJS loaded, going straight to plotting\");\n    run_inline_js();\n  } else {\n    load_libs(css_urls, js_urls, function() {\n      console.debug(\"Bokeh: BokehJS plotting callback run at\", now());\n      run_inline_js();\n    });\n  }\n}(window));"
     },
     "metadata": {},
     "output_type": "display_data"
    }
   ],
   "source": [
    "import numpy as np\n",
    "from bokeh.plotting import figure, show\n",
    "from bokeh.io import output_notebook\n",
    "from scipy.stats import gamma\n",
    "\n",
    "output_notebook()"
   ]
  },
  {
   "cell_type": "markdown",
   "metadata": {},
   "source": [
    "# Helper functions"
   ]
  },
  {
   "cell_type": "code",
   "execution_count": 4,
   "metadata": {},
   "outputs": [],
   "source": [
    "def dec2bin (N_bits,number):\n",
    "    return np.fromiter((a for a in np.binary_repr(int(number),N_bits)), dtype=int)[::-1]\n",
    "\n",
    "def bin2dec (N_bits,number):\n",
    "    return np.dot(number,np.fromiter((2**x for x in range(N_bits)), dtype=int))\n",
    "\n",
    "def LFSR_20bit (lfsr_i):\n",
    "        lfsr_o = np.roll(lfsr_i,1)\n",
    "        lfsr_o[3] = lfsr_o[3]^lfsr_o[0]\n",
    "        return lfsr_o\n",
    "    \n",
    "def V_in(t, input_type):\n",
    "    if input_type[0]=='pulses':\n",
    "        if input_type[1] == 'close':\n",
    "            t2, t1 = 26, 24\n",
    "        else:\n",
    "            t2, t1 = 46, 44\n",
    "        if (t<19 and t>=17) or (t<t2 and t>=t1):\n",
    "            V = 120                                      # constant input\n",
    "        else:\n",
    "            V = 0\n",
    "    elif input_type[0] == 'constant':\n",
    "        V = 20\n",
    "    return V"
   ]
  },
  {
   "cell_type": "markdown",
   "metadata": {},
   "source": [
    "# Models"
   ]
  },
  {
   "cell_type": "code",
   "execution_count": 47,
   "metadata": {
    "scrolled": false
   },
   "outputs": [],
   "source": [
    "def LIF(V_reset, V_thres, tau, dur, R, Ek, g_max, tau_r, input_type=('pulses', 'close')):\n",
    "    # LIF neuron\n",
    "    # tau is the time constant in units of dt (integer)\n",
    "\n",
    "    # initialisation\n",
    "    g = 0\n",
    "    a = tau/(tau + R*g + 1.0)\n",
    "    b = tau_r/(tau_r + 1.0)\n",
    "    V_mem = V_reset                             # reset initial voltage\n",
    "    Vs = V_mem                                  # store V_int in trace for plotting\n",
    "    gs = g\n",
    "\n",
    "    for t in range(dur):                        # simulate dur time steps\n",
    "        g = b*g\n",
    "        V_mem = a*V_mem + (1-a)*V_in(t, input_type) + R*g*Ek/(1+R*g+tau)         # LPF equation\n",
    "        Vs = np.append(Vs,V_mem)                   # append V_mem to trace\n",
    "        gs = np.append(gs, g)\n",
    "        if V_mem >= V_thres:                    # check if V_mem > threshold\n",
    "            g = g_max\n",
    "            V_mem = V_reset                     # reset V_mem\n",
    "            Vs[-1] = 40                         # plot spike\n",
    "\n",
    "    return Vs, gs\n",
    "\n",
    "def LIFn(V_reset, V_thres, tau, dur, R, Ek, g_max, tau_r, input_type=('pulses', 'close')):\n",
    "    # LIF neuron\n",
    "    # tau is the time constant in units of dt (integer)\n",
    "\n",
    "    # initialisation\n",
    "    g = 0\n",
    "    a = tau/(tau + R*g + 1.0)\n",
    "    b = tau_r/(tau_r + 1.0)\n",
    "    V_mem = V_reset                             # reset initial voltage\n",
    "    Vs = V_mem                                  # store V_int in trace for plotting\n",
    "    gs = g\n",
    "    ST = []\n",
    "\n",
    "    for t in range(dur):                        # simulate dur time steps\n",
    "        g = b*g\n",
    "        V_mem = a*V_mem + (1-a)*V_in(t, input_type) + R*g*Ek/(1+R*g+tau)        # LPF equation\n",
    "        V_mem += np.random.randn()                        # additive Gaussian (Normal) noise\n",
    "        Vs = np.append(Vs,V_mem)                   # append V_mem to trace\n",
    "        gs = np.append(gs, g)\n",
    "        if V_mem >= V_thres:                    # check if V_mem > threshold\n",
    "            g = g_max\n",
    "            V_mem = V_reset                     # reset V_mem\n",
    "            Vs[-1] = 40                         # plot spike\n",
    "            ST = np.append(ST,t)                   # record spike time\n",
    "\n",
    "    return Vs, ST, gs\n",
    "\n",
    "def SLIF(V_reset, V_thres, tau, seed, V_bits, dur, R, Ek, g_max, tau_r, input_type=('pulses', 'close')):\n",
    "    # stochastic LIF neuron\n",
    "    # tau is the time constant in units of dt (integer)\n",
    "\n",
    "    # initialisation\n",
    "    g = 0\n",
    "    a = tau/(tau + R*g + 1.0)\n",
    "    b = tau_r/(tau_r + 1.0)\n",
    "    lfsr = LFSR_20bit(dec2bin(20,seed))         # load seed\n",
    "    V_temp = V_reset             # convert to binary\n",
    "    V_mem = V_reset                             # reset initial voltage\n",
    "    Vs = [V_mem]                                  # store V_int in trace for plotting\n",
    "    gs = g\n",
    "    ST = []                                     # list of spike times\n",
    "\n",
    "    for t in range(dur):                        # simulate dur time steps\n",
    "        lfsr = LFSR_20bit(lfsr)                 # clock the shift register\n",
    "        r = bin2dec(20,lfsr)/2.**20             # generate the random fraction\n",
    "        r2 = bin2dec(20,lfsr)/2.**20\n",
    "        V_mem = V_temp\n",
    "        Vin = V_in(t, input_type)                           # read filter input\n",
    "        g = int(b*g +r2)\n",
    "        V_mem = int((V_mem-Vin)*a + Vin + r + R*g*Ek/(1+R*g+tau))    # LPF equation\n",
    "        Vs = np.append(Vs,V_mem)                   # append V_mem to  trace\n",
    "        gs = np.append(gs, g)\n",
    "        if V_mem >= V_thres:                    # check if V_mem > threshold\n",
    "            g = g_max\n",
    "            V_mem = V_reset                     # reset V_mem\n",
    "            Vs[-1] = 40                         # plot spike\n",
    "            ST = np.append(ST,t)                   # record spike time\n",
    "        V_temp = V_mem          # convert back to binary (4 bits)\n",
    "\n",
    "    return Vs, ST, gs\n",
    "\n",
    "def SLIF2(V_reset, V_thres, tau, tau_r, seed, V_bits, dur, input_type=('pulses', 'close')):\n",
    "    # stochastic LIF neuron\n",
    "    # tau is the time constant in units of dt (integer)\n",
    "    # Refractory period is just voltage clipped to Vr for a while\n",
    "\n",
    "    # initialisation\n",
    "    v_init = 0\n",
    "    refrac_tau = tau_r\n",
    "    a = tau/(tau + 1.0)\n",
    "    b = refrac_tau/(refrac_tau + 1.0)\n",
    "    lfsr = LFSR_20bit(dec2bin(20,seed))         # load seed\n",
    "    # TODO V_bin = dec2bin(V_bits,V_reset)             # convert to binary\n",
    "    V_mem = v_init                              # reset initial voltage\n",
    "    V_temp = V_mem\n",
    "    Vs = V_mem                                  # store V_int in trace for plotting\n",
    "    ST = []                                     # list of spike times\n",
    "\n",
    "    for t in range(dur):                        # simulate dur time steps\n",
    "        lfsr = LFSR_20bit(lfsr)                 # clock the shift register\n",
    "        r = bin2dec(20,lfsr)/2.**20             # generate the random fraction\n",
    "        V_mem = V_temp# TODO V_mem = bin2dec(V_bits, V_bin)          # convert binary stored state to integer\n",
    "        Vin = V_in(t, input_type)\n",
    "        \n",
    "        if V_mem < v_init:\n",
    "            V_mem = int(V_mem*b + r)\n",
    "            Vs = np.append(Vs,V_mem)\n",
    "        else:\n",
    "            V_mem = int((V_mem-Vin)*a + Vin + r)    # LPF equation\n",
    "            Vs = np.append(Vs,V_mem)                   # append V_mem to  trace\n",
    "            if V_mem >= V_thres:                    # check if V_mem > threshold\n",
    "                V_mem = V_reset                     # reset V_mem\n",
    "                Vs[-1] = V_reset # TODO 40                         # plot spike\n",
    "                ST = np.append(ST, t)                   # record spike time\n",
    "        V_temp = V_mem # TODO V_bin = dec2bin(V_bits, V_mem)          # convert back to binary (4 bits)\n",
    "\n",
    "    return Vs, ST"
   ]
  },
  {
   "cell_type": "markdown",
   "metadata": {},
   "source": [
    "To emulate a hyperpolarization, a potassium channel was added: $$C\\frac{dv_m}{dt}=\\frac{v_{in}-v_m}{R_l}+\\frac{E_k-v_m}{R_k}$$\n",
    "\n",
    "$$\\tau\\frac{dv_m}{dt}=v_m(-1-R_lg_k)+R_lg_kE_k+v_{in}$$\n",
    "\n",
    "To discretize this equation as shown in the previous notebook, we can do the following\n",
    "$$v_m=\\frac{\\tau dv_m/dt-R_lg_kE_k-v_{in}}{(-1-R_lg_k)}$$\n",
    "$$v_m[t+1]=\\frac{\\tau}{(-1-R_lg_k)}\\frac{(v_m[t+1]-v_m[t])}{\\Delta t}+\\frac{R_lg_kE_k}{1+R_lg_k}+\\frac{v_{in}}{1+R_lg_k}$$\n",
    "\n",
    "After further manipulations, we can see that\n",
    "$$v_m[t+1]=\\frac{\\tau}{\\Delta t(1+R_lg_k)+\\tau}v_m[t]+\\frac{\\Delta tR_lg_kE_k}{\\Delta t(1+R_lg_k)+\\tau}+\\frac{\\Delta tv_{in}}{\\Delta t(1+R_lg_k)+\\tau}$$\n",
    "\n",
    "With $\\Delta t=1$, we can see that it is almost as the equation used in the previous notebook, but in this case $a=\\frac{\\tau}{\\tau+(1+R_lg_k)}$ and there is the aditional term $\\frac{R_lg_kE_k}{1+R_lg_k+\\tau}$"
   ]
  },
  {
   "cell_type": "code",
   "execution_count": 159,
   "metadata": {},
   "outputs": [
    {
     "data": {
      "text/html": [
       "\n",
       "\n",
       "\n",
       "\n",
       "\n",
       "\n",
       "  <div class=\"bk-root\" id=\"7b851080-be13-4955-b1ea-6358c9341485\" data-root-id=\"74613\"></div>\n"
      ]
     },
     "metadata": {},
     "output_type": "display_data"
    },
    {
     "data": {
      "application/javascript": [
       "(function(root) {\n",
       "  function embed_document(root) {\n",
       "    \n",
       "  var docs_json = {\"586c3401-cf07-47b2-85c8-71a4774e419b\":{\"roots\":{\"references\":[{\"attributes\":{\"formatter\":{\"id\":\"75809\",\"type\":\"BasicTickFormatter\"},\"ticker\":{\"id\":\"74623\",\"type\":\"BasicTicker\"}},\"id\":\"74622\",\"type\":\"LinearAxis\"},{\"attributes\":{\"callback\":null,\"data\":{\"x\":[0,1,2,3,4,5,6,7,8,9,10,11,12,13,14,15,16,17,18,19,20,21,22,23,24,25,26,27,28,29,30,31,32,33,34,35,36,37,38,39,40,41,42,43,44,45,46,47,48,49,50,51,52,53,54,55,56,57,58,59,60],\"y\":{\"__ndarray__\":\"AAAAAAAAAAAAAAAAAAAAAAAAAAAAAAAAAAAAAAAAAAAAAAAAAAAAAAAAAAAAAAAAAAAAAAAAAAAAAAAAAAAAAAAAAAAAAAAAAAAAAAAAAAAAAAAAAAAAAAAAAAAAAAAAAAAAAAAAAAAAAAAAAAAAAAAAAAAAAAAAAAAAAAAAAAAAAAAAAAAAAAAAAAAAAAAAXyd2Yid2IkAAAAAAAABEQD744IMPPgjAXtNiy+33EcBmfp6QiIETwO6SsiBtFRPAKONhwA79EcCrI0AdRjEUQF3jr9WUwitApaVSJx+eKUCL4nr3DKUnQHl/6jU70yVAGpCYqGAlJECYlg5NopgiQNGJ1YhsKiFA6oVKG8ewH0DkTn5et0AdQKtTjh+pABtAGj0P1ursGECP0EnVEwIXQJ8aKpz+PBVAj2Rmo8OaE0DsxK6WtBgSQNz/gO1XtBBAmJNvtsnWDkAlkosef3cMQJFIp37rRgpA5kEQ63ZBCEBKXXE70GMGQMjqVJnnqgRAOjjYeekTA0D/bVH6OZwBQCEqS5hwQQBA8nSee6gC/j/hawg3r7P7P7bZQpUrkvk/uhdlYp6a9z9JPSJHzcn1P+EkvXy9HPQ/CyJM6a6Q8j/PRkacFyPxP/Uz5Ec/o+8/4/S+aTo07T8=\",\"dtype\":\"float64\",\"shape\":[61]}},\"selected\":{\"id\":\"75812\",\"type\":\"Selection\"},\"selection_policy\":{\"id\":\"75813\",\"type\":\"UnionRenderers\"}},\"id\":\"74645\",\"type\":\"ColumnDataSource\"},{\"attributes\":{},\"id\":\"74620\",\"type\":\"LinearScale\"},{\"attributes\":{\"line_alpha\":0.1,\"line_color\":\"#1f77b4\",\"line_width\":2,\"x\":{\"field\":\"x\"},\"y\":{\"field\":\"y\"}},\"id\":\"74647\",\"type\":\"Line\"},{\"attributes\":{\"ticker\":{\"id\":\"74623\",\"type\":\"BasicTicker\"}},\"id\":\"74626\",\"type\":\"Grid\"},{\"attributes\":{\"formatter\":{\"id\":\"75811\",\"type\":\"BasicTickFormatter\"},\"ticker\":{\"id\":\"74628\",\"type\":\"BasicTicker\"}},\"id\":\"74627\",\"type\":\"LinearAxis\"},{\"attributes\":{},\"id\":\"74623\",\"type\":\"BasicTicker\"},{\"attributes\":{},\"id\":\"74628\",\"type\":\"BasicTicker\"},{\"attributes\":{\"data_source\":{\"id\":\"74645\",\"type\":\"ColumnDataSource\"},\"glyph\":{\"id\":\"74646\",\"type\":\"Line\"},\"hover_glyph\":null,\"muted_glyph\":null,\"nonselection_glyph\":{\"id\":\"74647\",\"type\":\"Line\"},\"selection_glyph\":null,\"view\":{\"id\":\"74649\",\"type\":\"CDSView\"}},\"id\":\"74648\",\"type\":\"GlyphRenderer\"},{\"attributes\":{\"source\":{\"id\":\"74645\",\"type\":\"ColumnDataSource\"}},\"id\":\"74649\",\"type\":\"CDSView\"},{\"attributes\":{},\"id\":\"75809\",\"type\":\"BasicTickFormatter\"},{\"attributes\":{},\"id\":\"75812\",\"type\":\"Selection\"},{\"attributes\":{\"callback\":null},\"id\":\"74614\",\"type\":\"DataRange1d\"},{\"attributes\":{},\"id\":\"74636\",\"type\":\"ResetTool\"},{\"attributes\":{\"active_drag\":\"auto\",\"active_inspect\":\"auto\",\"active_multi\":null,\"active_scroll\":\"auto\",\"active_tap\":\"auto\",\"tools\":[{\"id\":\"74632\",\"type\":\"PanTool\"},{\"id\":\"74633\",\"type\":\"WheelZoomTool\"},{\"id\":\"74634\",\"type\":\"BoxZoomTool\"},{\"id\":\"74635\",\"type\":\"SaveTool\"},{\"id\":\"74636\",\"type\":\"ResetTool\"},{\"id\":\"74637\",\"type\":\"HelpTool\"}]},\"id\":\"74638\",\"type\":\"Toolbar\"},{\"attributes\":{\"text\":\"\"},\"id\":\"75807\",\"type\":\"Title\"},{\"attributes\":{\"dimension\":1,\"ticker\":{\"id\":\"74628\",\"type\":\"BasicTicker\"}},\"id\":\"74631\",\"type\":\"Grid\"},{\"attributes\":{},\"id\":\"74633\",\"type\":\"WheelZoomTool\"},{\"attributes\":{},\"id\":\"74632\",\"type\":\"PanTool\"},{\"attributes\":{},\"id\":\"74635\",\"type\":\"SaveTool\"},{\"attributes\":{\"overlay\":{\"id\":\"75816\",\"type\":\"BoxAnnotation\"}},\"id\":\"74634\",\"type\":\"BoxZoomTool\"},{\"attributes\":{},\"id\":\"74637\",\"type\":\"HelpTool\"},{\"attributes\":{},\"id\":\"74618\",\"type\":\"LinearScale\"},{\"attributes\":{\"bottom_units\":\"screen\",\"fill_alpha\":{\"value\":0.5},\"fill_color\":{\"value\":\"lightgrey\"},\"left_units\":\"screen\",\"level\":\"overlay\",\"line_alpha\":{\"value\":1.0},\"line_color\":{\"value\":\"black\"},\"line_dash\":[4,4],\"line_width\":{\"value\":2},\"render_mode\":\"css\",\"right_units\":\"screen\",\"top_units\":\"screen\"},\"id\":\"75816\",\"type\":\"BoxAnnotation\"},{\"attributes\":{\"callback\":null},\"id\":\"74616\",\"type\":\"DataRange1d\"},{\"attributes\":{},\"id\":\"75814\",\"type\":\"Selection\"},{\"attributes\":{},\"id\":\"75815\",\"type\":\"UnionRenderers\"},{\"attributes\":{\"below\":[{\"id\":\"74622\",\"type\":\"LinearAxis\"}],\"center\":[{\"id\":\"74626\",\"type\":\"Grid\"},{\"id\":\"74631\",\"type\":\"Grid\"}],\"left\":[{\"id\":\"74627\",\"type\":\"LinearAxis\"}],\"plot_height\":450,\"plot_width\":700,\"renderers\":[{\"id\":\"74648\",\"type\":\"GlyphRenderer\"},{\"id\":\"74653\",\"type\":\"GlyphRenderer\"}],\"title\":{\"id\":\"75807\",\"type\":\"Title\"},\"toolbar\":{\"id\":\"74638\",\"type\":\"Toolbar\"},\"x_range\":{\"id\":\"74614\",\"type\":\"DataRange1d\"},\"x_scale\":{\"id\":\"74618\",\"type\":\"LinearScale\"},\"y_range\":{\"id\":\"74616\",\"type\":\"DataRange1d\"},\"y_scale\":{\"id\":\"74620\",\"type\":\"LinearScale\"}},\"id\":\"74613\",\"subtype\":\"Figure\",\"type\":\"Plot\"},{\"attributes\":{},\"id\":\"75813\",\"type\":\"UnionRenderers\"},{\"attributes\":{},\"id\":\"75811\",\"type\":\"BasicTickFormatter\"},{\"attributes\":{\"data_source\":{\"id\":\"74650\",\"type\":\"ColumnDataSource\"},\"glyph\":{\"id\":\"74651\",\"type\":\"Line\"},\"hover_glyph\":null,\"muted_glyph\":null,\"nonselection_glyph\":{\"id\":\"74652\",\"type\":\"Line\"},\"selection_glyph\":null,\"view\":{\"id\":\"74654\",\"type\":\"CDSView\"}},\"id\":\"74653\",\"type\":\"GlyphRenderer\"},{\"attributes\":{\"line_alpha\":0.1,\"line_color\":\"#1f77b4\",\"line_width\":2,\"x\":{\"field\":\"x\"},\"y\":{\"field\":\"y\"}},\"id\":\"74652\",\"type\":\"Line\"},{\"attributes\":{\"line_color\":\"red\",\"line_width\":2,\"x\":{\"field\":\"x\"},\"y\":{\"field\":\"y\"}},\"id\":\"74651\",\"type\":\"Line\"},{\"attributes\":{\"callback\":null,\"data\":{\"x\":[0,1,2,3,4,5,6,7,8,9,10,11,12,13,14,15,16,17,18,19,20,21,22,23,24,25,26,27,28,29,30,31,32,33,34,35,36,37,38,39,40,41,42,43,44,45,46,47,48,49,50,51,52,53,54,55,56,57,58,59,60],\"y\":{\"__ndarray__\":\"AAAAAAAAAAAAAAAAAAAAAAAAAAAAAAAAAAAAAAAAAAAAAAAAAAAAAAAAAAAAAAAAAAAAAAAAAAAAAAAAAAAAAAAAAAAAAAAAAAAAAAAAAAAAAAAAAAAAAAAAAAAAAAAAAAAAAAAAAAAAAAAAAAAAAAAAAAAAAAAAAAAAAAAAAAAAAAAAAAAAAAAAAAAAAAAAAAAAAAAAAAAAAAAAAAAAAKqqqqqqqgpAcRzHcRzH8T9BewntJbTXP1akDDzdmr8/ORiz0ugRpT/2yu4Y4ReMP/kxnxCWunI/9pcpFsj4WD/5D3G52qVAP6FqQfd4MiY/LI6sSaGYDT8dtB0xFrvzPibwfEHITto+xEpT1tqJwT6wY8QdeWKnPpUvW9L2LY8+DnXnNk/JdD4SnDRJFLdbPrYSI4YNekI+SG7ZsryiKD4w9JDMfWwQPpVFwRD95fU9HLIBwaYy3T1oIQHWGXfDPYosrHIi9Kk9XMhyTGxNkT3QtUO75RF3PcBHWqSHwl49gNrmwq+BRD2qeN4DlVcrPcal6VdjOhI9CN2MytlN+DxakwiH5jPgPCJvC7SImsU8gum5mgvOrDwB8Xu8BzSTPAHsT/u0mnk8q/Lf/M0RYTyOQ9X7Z8JGPBJaHKWKWC48YZG9GAc7FDw=\",\"dtype\":\"float64\",\"shape\":[61]}},\"selected\":{\"id\":\"75814\",\"type\":\"Selection\"},\"selection_policy\":{\"id\":\"75815\",\"type\":\"UnionRenderers\"}},\"id\":\"74650\",\"type\":\"ColumnDataSource\"},{\"attributes\":{\"source\":{\"id\":\"74650\",\"type\":\"ColumnDataSource\"}},\"id\":\"74654\",\"type\":\"CDSView\"},{\"attributes\":{\"line_width\":2,\"x\":{\"field\":\"x\"},\"y\":{\"field\":\"y\"}},\"id\":\"74646\",\"type\":\"Line\"}],\"root_ids\":[\"74613\"]},\"title\":\"Bokeh Application\",\"version\":\"1.4.0\"}};\n",
       "  var render_items = [{\"docid\":\"586c3401-cf07-47b2-85c8-71a4774e419b\",\"roots\":{\"74613\":\"7b851080-be13-4955-b1ea-6358c9341485\"}}];\n",
       "  root.Bokeh.embed.embed_items_notebook(docs_json, render_items);\n",
       "\n",
       "  }\n",
       "  if (root.Bokeh !== undefined) {\n",
       "    embed_document(root);\n",
       "  } else {\n",
       "    var attempts = 0;\n",
       "    var timer = setInterval(function(root) {\n",
       "      if (root.Bokeh !== undefined) {\n",
       "        clearInterval(timer);\n",
       "        embed_document(root);\n",
       "      } else {\n",
       "        attempts++;\n",
       "        if (attempts > 100) {\n",
       "          clearInterval(timer);\n",
       "          console.log(\"Bokeh: ERROR: Unable to run BokehJS code because BokehJS library is missing\");\n",
       "        }\n",
       "      }\n",
       "    }, 10, root)\n",
       "  }\n",
       "})(window);"
      ],
      "application/vnd.bokehjs_exec.v0+json": ""
     },
     "metadata": {
      "application/vnd.bokehjs_exec.v0+json": {
       "id": "74613"
      }
     },
     "output_type": "display_data"
    }
   ],
   "source": [
    "fig = figure(width=700, height=450)\n",
    "Vs, g = LIF(V_reset = 0, V_thres = 16, tau = 12, R=6, Ek=-5, dur = 60, g_max=10, tau_r=5e-1)\n",
    "fig.line(range(0, len(Vs)), Vs, color='black', line_width=2)\n",
    "fig.line(range(0, len(Vs)), g, color='red', line_width=2)\n",
    "show(fig)"
   ]
  },
  {
   "cell_type": "code",
   "execution_count": 160,
   "metadata": {},
   "outputs": [
    {
     "data": {
      "text/html": [
       "\n",
       "\n",
       "\n",
       "\n",
       "\n",
       "\n",
       "  <div class=\"bk-root\" id=\"fa5a4822-2cfb-46b8-ba4b-ba542c701e3a\" data-root-id=\"75883\"></div>\n"
      ]
     },
     "metadata": {},
     "output_type": "display_data"
    },
    {
     "data": {
      "application/javascript": [
       "(function(root) {\n",
       "  function embed_document(root) {\n",
       "    \n",
       "  var docs_json = {\"322ef78e-4bf5-44b9-a52c-33019008bf56\":{\"roots\":{\"references\":[{\"attributes\":{\"text\":\"\"},\"id\":\"77088\",\"type\":\"Title\"},{\"attributes\":{\"source\":{\"id\":\"75920\",\"type\":\"ColumnDataSource\"}},\"id\":\"75924\",\"type\":\"CDSView\"},{\"attributes\":{\"line_alpha\":0.1,\"line_color\":\"#1f77b4\",\"line_width\":2,\"x\":{\"field\":\"x\"},\"y\":{\"field\":\"y\"}},\"id\":\"75922\",\"type\":\"Line\"},{\"attributes\":{\"data_source\":{\"id\":\"75920\",\"type\":\"ColumnDataSource\"},\"glyph\":{\"id\":\"75921\",\"type\":\"Line\"},\"hover_glyph\":null,\"muted_glyph\":null,\"nonselection_glyph\":{\"id\":\"75922\",\"type\":\"Line\"},\"selection_glyph\":null,\"view\":{\"id\":\"75924\",\"type\":\"CDSView\"}},\"id\":\"75923\",\"type\":\"GlyphRenderer\"},{\"attributes\":{\"callback\":null,\"data\":{\"x\":[0,1,2,3,4,5,6,7,8,9,10,11,12,13,14,15,16,17,18,19,20,21,22,23,24,25,26,27,28,29,30,31,32,33,34,35,36,37,38,39,40,41,42,43,44,45,46,47,48,49,50,51,52,53,54,55,56,57,58,59,60],\"y\":{\"__ndarray__\":\"AAAAAAAAAAAAAAAAAAAAAAAAAAAAAAAAAAAAAAAAAAAAAAAAAAAAAAAAAAAAAAAAAAAAAAAAAAAAAAAAAAAAAAAAAAAAAAAAAAAAAAAAAAAAAAAAAAAAAAAAAAAAAAAAAAAAAAAAAAAAAAAAAAAAAAAAAAAAAAAAAAAAAAAAAAAAAAAAAAAAAAAAAAAAAAAAAAAAAAAAAAAAAAAAAAAAAKqqqqqqqgpAcRzHcRzH8T9BewntJbTXP1akDDzdmr8/ORiz0ugRpT/2yu4Y4ReMP/kxnxCWunI/9pcpFsj4WD/5D3G52qVAP6FqQfd4MiY/LI6sSaGYDT8dtB0xFrvzPibwfEHITto+xEpT1tqJwT6wY8QdeWKnPpUvW9L2LY8+DnXnNk/JdD4SnDRJFLdbPrYSI4YNekI+SG7ZsryiKD4w9JDMfWwQPpVFwRD95fU9HLIBwaYy3T1oIQHWGXfDPYosrHIi9Kk9XMhyTGxNkT3QtUO75RF3PcBHWqSHwl49gNrmwq+BRD2qeN4DlVcrPcal6VdjOhI9CN2MytlN+DxakwiH5jPgPCJvC7SImsU8gum5mgvOrDwB8Xu8BzSTPAHsT/u0mnk8q/Lf/M0RYTyOQ9X7Z8JGPBJaHKWKWC48YZG9GAc7FDw=\",\"dtype\":\"float64\",\"shape\":[61]}},\"selected\":{\"id\":\"77095\",\"type\":\"Selection\"},\"selection_policy\":{\"id\":\"77096\",\"type\":\"UnionRenderers\"}},\"id\":\"75920\",\"type\":\"ColumnDataSource\"},{\"attributes\":{\"line_color\":\"red\",\"line_width\":2,\"x\":{\"field\":\"x\"},\"y\":{\"field\":\"y\"}},\"id\":\"75921\",\"type\":\"Line\"},{\"attributes\":{\"callback\":null},\"id\":\"75884\",\"type\":\"DataRange1d\"},{\"attributes\":{\"callback\":null},\"id\":\"75886\",\"type\":\"DataRange1d\"},{\"attributes\":{\"below\":[{\"id\":\"75892\",\"type\":\"LinearAxis\"}],\"center\":[{\"id\":\"75896\",\"type\":\"Grid\"},{\"id\":\"75901\",\"type\":\"Grid\"}],\"left\":[{\"id\":\"75897\",\"type\":\"LinearAxis\"}],\"plot_height\":450,\"plot_width\":700,\"renderers\":[{\"id\":\"75918\",\"type\":\"GlyphRenderer\"},{\"id\":\"75923\",\"type\":\"GlyphRenderer\"}],\"title\":{\"id\":\"77088\",\"type\":\"Title\"},\"toolbar\":{\"id\":\"75908\",\"type\":\"Toolbar\"},\"x_range\":{\"id\":\"75884\",\"type\":\"DataRange1d\"},\"x_scale\":{\"id\":\"75888\",\"type\":\"LinearScale\"},\"y_range\":{\"id\":\"75886\",\"type\":\"DataRange1d\"},\"y_scale\":{\"id\":\"75890\",\"type\":\"LinearScale\"}},\"id\":\"75883\",\"subtype\":\"Figure\",\"type\":\"Plot\"},{\"attributes\":{},\"id\":\"75888\",\"type\":\"LinearScale\"},{\"attributes\":{},\"id\":\"77094\",\"type\":\"UnionRenderers\"},{\"attributes\":{},\"id\":\"77095\",\"type\":\"Selection\"},{\"attributes\":{},\"id\":\"77096\",\"type\":\"UnionRenderers\"},{\"attributes\":{\"bottom_units\":\"screen\",\"fill_alpha\":{\"value\":0.5},\"fill_color\":{\"value\":\"lightgrey\"},\"left_units\":\"screen\",\"level\":\"overlay\",\"line_alpha\":{\"value\":1.0},\"line_color\":{\"value\":\"black\"},\"line_dash\":[4,4],\"line_width\":{\"value\":2},\"render_mode\":\"css\",\"right_units\":\"screen\",\"top_units\":\"screen\"},\"id\":\"77097\",\"type\":\"BoxAnnotation\"},{\"attributes\":{},\"id\":\"77090\",\"type\":\"BasicTickFormatter\"},{\"attributes\":{},\"id\":\"77092\",\"type\":\"BasicTickFormatter\"},{\"attributes\":{},\"id\":\"77093\",\"type\":\"Selection\"},{\"attributes\":{\"source\":{\"id\":\"75915\",\"type\":\"ColumnDataSource\"}},\"id\":\"75919\",\"type\":\"CDSView\"},{\"attributes\":{\"data_source\":{\"id\":\"75915\",\"type\":\"ColumnDataSource\"},\"glyph\":{\"id\":\"75916\",\"type\":\"Line\"},\"hover_glyph\":null,\"muted_glyph\":null,\"nonselection_glyph\":{\"id\":\"75917\",\"type\":\"Line\"},\"selection_glyph\":null,\"view\":{\"id\":\"75919\",\"type\":\"CDSView\"}},\"id\":\"75918\",\"type\":\"GlyphRenderer\"},{\"attributes\":{\"line_alpha\":0.1,\"line_color\":\"#1f77b4\",\"line_width\":2,\"x\":{\"field\":\"x\"},\"y\":{\"field\":\"y\"}},\"id\":\"75917\",\"type\":\"Line\"},{\"attributes\":{\"line_width\":2,\"x\":{\"field\":\"x\"},\"y\":{\"field\":\"y\"}},\"id\":\"75916\",\"type\":\"Line\"},{\"attributes\":{\"callback\":null,\"data\":{\"x\":[0,1,2,3,4,5,6,7,8,9,10,11,12,13,14,15,16,17,18,19,20,21,22,23,24,25,26,27,28,29,30,31,32,33,34,35,36,37,38,39,40,41,42,43,44,45,46,47,48,49,50,51,52,53,54,55,56,57,58,59,60],\"y\":{\"__ndarray__\":\"AAAAAAAAAAC2JWC11hrnPxCSHvq/M8m/3Aa9HdJxsT+cUS35YqfyP0hij2ZL3Og/R9U15wY//j9AMd7OYsCfP5FiBEljZfK/TJ0iNGgc1z8oOTvTnkKqP3SADgZfdNG/SVKrs/DS1L/UW78fZcvPP1HXqFUKutC/z8GuuTbt7b9Ah55+X2Hrv8Jvn9Tc6tG/tDvGwr66IkAAAAAAAABEQIsG45QfpwLAwN9Zm/tbG8A8I1HRmkUXwDFEHA04RhzAeNLf8cqlHcADSgR0nnj3P2Ew9fic8yRAF3B1X+3MJEBWyNfl1/ciQOAyooa/yh5AiUU5UMWoG0Bucz4Wx6sbQD7XOZVvLhdAUCjf37X3HEC0LSfoewMUQIZ3RZHxTxVAKD9MWSHmD0Ai8D120LkGQNDJXOnRzwZAbxGh0m+TCkCimBHEdLARQMiISRa+yBFA0FDM62DWEUAvrt2A0x4RQDxdB+1fTApAsv2gy2yEEkCwRaZjsxIUQIBGmPPqYRBA73lOFK1GEkBMEB6dmUMSQEK15Vs4lRFAUm7RskBqCEAPkI3XymEIQCmYdt1OtwdAPIgpdHYvEUCrY1uuxSkIQJ80p24MNQhABJc4oa2bCEB42GKm/kAEQAY4oaAMrPs/biNuWIH65j8=\",\"dtype\":\"float64\",\"shape\":[61]}},\"selected\":{\"id\":\"77093\",\"type\":\"Selection\"},\"selection_policy\":{\"id\":\"77094\",\"type\":\"UnionRenderers\"}},\"id\":\"75915\",\"type\":\"ColumnDataSource\"},{\"attributes\":{\"ticker\":{\"id\":\"75893\",\"type\":\"BasicTicker\"}},\"id\":\"75896\",\"type\":\"Grid\"},{\"attributes\":{\"formatter\":{\"id\":\"77092\",\"type\":\"BasicTickFormatter\"},\"ticker\":{\"id\":\"75898\",\"type\":\"BasicTicker\"}},\"id\":\"75897\",\"type\":\"LinearAxis\"},{\"attributes\":{\"formatter\":{\"id\":\"77090\",\"type\":\"BasicTickFormatter\"},\"ticker\":{\"id\":\"75893\",\"type\":\"BasicTicker\"}},\"id\":\"75892\",\"type\":\"LinearAxis\"},{\"attributes\":{},\"id\":\"75893\",\"type\":\"BasicTicker\"},{\"attributes\":{},\"id\":\"75890\",\"type\":\"LinearScale\"},{\"attributes\":{},\"id\":\"75898\",\"type\":\"BasicTicker\"},{\"attributes\":{\"overlay\":{\"id\":\"77097\",\"type\":\"BoxAnnotation\"}},\"id\":\"75904\",\"type\":\"BoxZoomTool\"},{\"attributes\":{},\"id\":\"75905\",\"type\":\"SaveTool\"},{\"attributes\":{},\"id\":\"75906\",\"type\":\"ResetTool\"},{\"attributes\":{},\"id\":\"75907\",\"type\":\"HelpTool\"},{\"attributes\":{\"dimension\":1,\"ticker\":{\"id\":\"75898\",\"type\":\"BasicTicker\"}},\"id\":\"75901\",\"type\":\"Grid\"},{\"attributes\":{},\"id\":\"75902\",\"type\":\"PanTool\"},{\"attributes\":{},\"id\":\"75903\",\"type\":\"WheelZoomTool\"},{\"attributes\":{\"active_drag\":\"auto\",\"active_inspect\":\"auto\",\"active_multi\":null,\"active_scroll\":\"auto\",\"active_tap\":\"auto\",\"tools\":[{\"id\":\"75902\",\"type\":\"PanTool\"},{\"id\":\"75903\",\"type\":\"WheelZoomTool\"},{\"id\":\"75904\",\"type\":\"BoxZoomTool\"},{\"id\":\"75905\",\"type\":\"SaveTool\"},{\"id\":\"75906\",\"type\":\"ResetTool\"},{\"id\":\"75907\",\"type\":\"HelpTool\"}]},\"id\":\"75908\",\"type\":\"Toolbar\"}],\"root_ids\":[\"75883\"]},\"title\":\"Bokeh Application\",\"version\":\"1.4.0\"}};\n",
       "  var render_items = [{\"docid\":\"322ef78e-4bf5-44b9-a52c-33019008bf56\",\"roots\":{\"75883\":\"fa5a4822-2cfb-46b8-ba4b-ba542c701e3a\"}}];\n",
       "  root.Bokeh.embed.embed_items_notebook(docs_json, render_items);\n",
       "\n",
       "  }\n",
       "  if (root.Bokeh !== undefined) {\n",
       "    embed_document(root);\n",
       "  } else {\n",
       "    var attempts = 0;\n",
       "    var timer = setInterval(function(root) {\n",
       "      if (root.Bokeh !== undefined) {\n",
       "        clearInterval(timer);\n",
       "        embed_document(root);\n",
       "      } else {\n",
       "        attempts++;\n",
       "        if (attempts > 100) {\n",
       "          clearInterval(timer);\n",
       "          console.log(\"Bokeh: ERROR: Unable to run BokehJS code because BokehJS library is missing\");\n",
       "        }\n",
       "      }\n",
       "    }, 10, root)\n",
       "  }\n",
       "})(window);"
      ],
      "application/vnd.bokehjs_exec.v0+json": ""
     },
     "metadata": {
      "application/vnd.bokehjs_exec.v0+json": {
       "id": "75883"
      }
     },
     "output_type": "display_data"
    }
   ],
   "source": [
    "fig = figure(width=700, height=450)\n",
    "Vs, _, g = LIFn(V_reset = 0, V_thres = 16, tau = 12, R=6, Ek=-5, dur = 60, g_max=10, tau_r=5e-1)\n",
    "fig.line(range(0, len(Vs)), Vs, color='black', line_width=2)\n",
    "fig.line(range(0, len(Vs)), g, color='red', line_width=2)\n",
    "show(fig)"
   ]
  },
  {
   "cell_type": "code",
   "execution_count": 161,
   "metadata": {},
   "outputs": [
    {
     "data": {
      "text/html": [
       "\n",
       "\n",
       "\n",
       "\n",
       "\n",
       "\n",
       "  <div class=\"bk-root\" id=\"44161920-deba-4091-b9ee-a06721e143ae\" data-root-id=\"77164\"></div>\n"
      ]
     },
     "metadata": {},
     "output_type": "display_data"
    },
    {
     "data": {
      "application/javascript": [
       "(function(root) {\n",
       "  function embed_document(root) {\n",
       "    \n",
       "  var docs_json = {\"0f417101-3b47-4330-a2a3-018d62e0dfbf\":{\"roots\":{\"references\":[{\"attributes\":{\"bottom_units\":\"screen\",\"fill_alpha\":{\"value\":0.5},\"fill_color\":{\"value\":\"lightgrey\"},\"left_units\":\"screen\",\"level\":\"overlay\",\"line_alpha\":{\"value\":1.0},\"line_color\":{\"value\":\"black\"},\"line_dash\":[4,4],\"line_width\":{\"value\":2},\"render_mode\":\"css\",\"right_units\":\"screen\",\"top_units\":\"screen\"},\"id\":\"78389\",\"type\":\"BoxAnnotation\"},{\"attributes\":{},\"id\":\"78388\",\"type\":\"UnionRenderers\"},{\"attributes\":{\"text\":\"\"},\"id\":\"78380\",\"type\":\"Title\"},{\"attributes\":{},\"id\":\"78382\",\"type\":\"BasicTickFormatter\"},{\"attributes\":{},\"id\":\"78385\",\"type\":\"Selection\"},{\"attributes\":{},\"id\":\"78384\",\"type\":\"BasicTickFormatter\"},{\"attributes\":{},\"id\":\"78387\",\"type\":\"Selection\"},{\"attributes\":{},\"id\":\"78386\",\"type\":\"UnionRenderers\"},{\"attributes\":{},\"id\":\"77169\",\"type\":\"LinearScale\"},{\"attributes\":{\"below\":[{\"id\":\"77173\",\"type\":\"LinearAxis\"}],\"center\":[{\"id\":\"77177\",\"type\":\"Grid\"},{\"id\":\"77182\",\"type\":\"Grid\"}],\"left\":[{\"id\":\"77178\",\"type\":\"LinearAxis\"}],\"plot_height\":450,\"plot_width\":700,\"renderers\":[{\"id\":\"77199\",\"type\":\"GlyphRenderer\"},{\"id\":\"77204\",\"type\":\"GlyphRenderer\"}],\"title\":{\"id\":\"78380\",\"type\":\"Title\"},\"toolbar\":{\"id\":\"77189\",\"type\":\"Toolbar\"},\"x_range\":{\"id\":\"77165\",\"type\":\"DataRange1d\"},\"x_scale\":{\"id\":\"77169\",\"type\":\"LinearScale\"},\"y_range\":{\"id\":\"77167\",\"type\":\"DataRange1d\"},\"y_scale\":{\"id\":\"77171\",\"type\":\"LinearScale\"}},\"id\":\"77164\",\"subtype\":\"Figure\",\"type\":\"Plot\"},{\"attributes\":{\"callback\":null},\"id\":\"77165\",\"type\":\"DataRange1d\"},{\"attributes\":{\"callback\":null},\"id\":\"77167\",\"type\":\"DataRange1d\"},{\"attributes\":{\"line_width\":2,\"x\":{\"field\":\"x\"},\"y\":{\"field\":\"y\"}},\"id\":\"77197\",\"type\":\"Line\"},{\"attributes\":{\"callback\":null,\"data\":{\"x\":[0,1,2,3,4,5,6,7,8,9,10,11,12,13,14,15,16,17,18,19,20,21,22,23,24,25,26,27,28,29,30,31,32,33,34,35,36,37,38,39,40,41,42,43,44,45,46,47,48,49,50,51,52,53,54,55,56,57,58,59,60],\"y\":[0,0,0,0,0,0,0,0,0,0,0,0,0,0,0,0,0,0,9,40,-4,-6,-5,-4,-3,6,14,13,12,11,10,9,8,7,6,5,4,4,4,3,2,1,0,0,0,0,0,0,0,0,0,0,0,0,0,0,0,0,0,0,0]},\"selected\":{\"id\":\"78385\",\"type\":\"Selection\"},\"selection_policy\":{\"id\":\"78386\",\"type\":\"UnionRenderers\"}},\"id\":\"77196\",\"type\":\"ColumnDataSource\"},{\"attributes\":{\"data_source\":{\"id\":\"77196\",\"type\":\"ColumnDataSource\"},\"glyph\":{\"id\":\"77197\",\"type\":\"Line\"},\"hover_glyph\":null,\"muted_glyph\":null,\"nonselection_glyph\":{\"id\":\"77198\",\"type\":\"Line\"},\"selection_glyph\":null,\"view\":{\"id\":\"77200\",\"type\":\"CDSView\"}},\"id\":\"77199\",\"type\":\"GlyphRenderer\"},{\"attributes\":{\"line_alpha\":0.1,\"line_color\":\"#1f77b4\",\"line_width\":2,\"x\":{\"field\":\"x\"},\"y\":{\"field\":\"y\"}},\"id\":\"77198\",\"type\":\"Line\"},{\"attributes\":{\"callback\":null,\"data\":{\"x\":[0,1,2,3,4,5,6,7,8,9,10,11,12,13,14,15,16,17,18,19,20,21,22,23,24,25,26,27,28,29,30,31,32,33,34,35,36,37,38,39,40,41,42,43,44,45,46,47,48,49,50,51,52,53,54,55,56,57,58,59,60],\"y\":[0,0,0,0,0,0,0,0,0,0,0,0,0,0,0,0,0,0,0,0,3,1,0,0,0,0,0,0,0,0,0,0,0,0,0,0,0,0,0,0,0,0,0,0,0,0,0,0,0,0,0,0,0,0,0,0,0,0,0,0,0]},\"selected\":{\"id\":\"78387\",\"type\":\"Selection\"},\"selection_policy\":{\"id\":\"78388\",\"type\":\"UnionRenderers\"}},\"id\":\"77201\",\"type\":\"ColumnDataSource\"},{\"attributes\":{\"source\":{\"id\":\"77196\",\"type\":\"ColumnDataSource\"}},\"id\":\"77200\",\"type\":\"CDSView\"},{\"attributes\":{\"line_alpha\":0.1,\"line_color\":\"#1f77b4\",\"line_width\":2,\"x\":{\"field\":\"x\"},\"y\":{\"field\":\"y\"}},\"id\":\"77203\",\"type\":\"Line\"},{\"attributes\":{\"line_color\":\"red\",\"line_width\":2,\"x\":{\"field\":\"x\"},\"y\":{\"field\":\"y\"}},\"id\":\"77202\",\"type\":\"Line\"},{\"attributes\":{\"source\":{\"id\":\"77201\",\"type\":\"ColumnDataSource\"}},\"id\":\"77205\",\"type\":\"CDSView\"},{\"attributes\":{\"data_source\":{\"id\":\"77201\",\"type\":\"ColumnDataSource\"},\"glyph\":{\"id\":\"77202\",\"type\":\"Line\"},\"hover_glyph\":null,\"muted_glyph\":null,\"nonselection_glyph\":{\"id\":\"77203\",\"type\":\"Line\"},\"selection_glyph\":null,\"view\":{\"id\":\"77205\",\"type\":\"CDSView\"}},\"id\":\"77204\",\"type\":\"GlyphRenderer\"},{\"attributes\":{\"formatter\":{\"id\":\"78382\",\"type\":\"BasicTickFormatter\"},\"ticker\":{\"id\":\"77174\",\"type\":\"BasicTicker\"}},\"id\":\"77173\",\"type\":\"LinearAxis\"},{\"attributes\":{},\"id\":\"77171\",\"type\":\"LinearScale\"},{\"attributes\":{\"ticker\":{\"id\":\"77174\",\"type\":\"BasicTicker\"}},\"id\":\"77177\",\"type\":\"Grid\"},{\"attributes\":{},\"id\":\"77174\",\"type\":\"BasicTicker\"},{\"attributes\":{},\"id\":\"77179\",\"type\":\"BasicTicker\"},{\"attributes\":{\"formatter\":{\"id\":\"78384\",\"type\":\"BasicTickFormatter\"},\"ticker\":{\"id\":\"77179\",\"type\":\"BasicTicker\"}},\"id\":\"77178\",\"type\":\"LinearAxis\"},{\"attributes\":{\"dimension\":1,\"ticker\":{\"id\":\"77179\",\"type\":\"BasicTicker\"}},\"id\":\"77182\",\"type\":\"Grid\"},{\"attributes\":{},\"id\":\"77183\",\"type\":\"PanTool\"},{\"attributes\":{},\"id\":\"77186\",\"type\":\"SaveTool\"},{\"attributes\":{},\"id\":\"77187\",\"type\":\"ResetTool\"},{\"attributes\":{},\"id\":\"77184\",\"type\":\"WheelZoomTool\"},{\"attributes\":{\"overlay\":{\"id\":\"78389\",\"type\":\"BoxAnnotation\"}},\"id\":\"77185\",\"type\":\"BoxZoomTool\"},{\"attributes\":{},\"id\":\"77188\",\"type\":\"HelpTool\"},{\"attributes\":{\"active_drag\":\"auto\",\"active_inspect\":\"auto\",\"active_multi\":null,\"active_scroll\":\"auto\",\"active_tap\":\"auto\",\"tools\":[{\"id\":\"77183\",\"type\":\"PanTool\"},{\"id\":\"77184\",\"type\":\"WheelZoomTool\"},{\"id\":\"77185\",\"type\":\"BoxZoomTool\"},{\"id\":\"77186\",\"type\":\"SaveTool\"},{\"id\":\"77187\",\"type\":\"ResetTool\"},{\"id\":\"77188\",\"type\":\"HelpTool\"}]},\"id\":\"77189\",\"type\":\"Toolbar\"}],\"root_ids\":[\"77164\"]},\"title\":\"Bokeh Application\",\"version\":\"1.4.0\"}};\n",
       "  var render_items = [{\"docid\":\"0f417101-3b47-4330-a2a3-018d62e0dfbf\",\"roots\":{\"77164\":\"44161920-deba-4091-b9ee-a06721e143ae\"}}];\n",
       "  root.Bokeh.embed.embed_items_notebook(docs_json, render_items);\n",
       "\n",
       "  }\n",
       "  if (root.Bokeh !== undefined) {\n",
       "    embed_document(root);\n",
       "  } else {\n",
       "    var attempts = 0;\n",
       "    var timer = setInterval(function(root) {\n",
       "      if (root.Bokeh !== undefined) {\n",
       "        clearInterval(timer);\n",
       "        embed_document(root);\n",
       "      } else {\n",
       "        attempts++;\n",
       "        if (attempts > 100) {\n",
       "          clearInterval(timer);\n",
       "          console.log(\"Bokeh: ERROR: Unable to run BokehJS code because BokehJS library is missing\");\n",
       "        }\n",
       "      }\n",
       "    }, 10, root)\n",
       "  }\n",
       "})(window);"
      ],
      "application/vnd.bokehjs_exec.v0+json": ""
     },
     "metadata": {
      "application/vnd.bokehjs_exec.v0+json": {
       "id": "77164"
      }
     },
     "output_type": "display_data"
    }
   ],
   "source": [
    "fig = figure(width=700, height=450)\n",
    "Vs, _, g = SLIF(V_reset = 0, V_thres = 16, tau = 12, R=6, Ek=-8, dur = 60, g_max=10, tau_r=5e-1, seed=123, V_bits=4)\n",
    "fig.line(range(0, len(Vs)), Vs, color='black', line_width=2)\n",
    "fig.line(range(0, len(Vs)), g, color='red', line_width=2)\n",
    "show(fig)"
   ]
  },
  {
   "cell_type": "code",
   "execution_count": 163,
   "metadata": {},
   "outputs": [
    {
     "data": {
      "text/html": [
       "\n",
       "\n",
       "\n",
       "\n",
       "\n",
       "\n",
       "  <div class=\"bk-root\" id=\"b86eeefc-2679-43cc-8a0f-a24a3690bc23\" data-root-id=\"78488\"></div>\n"
      ]
     },
     "metadata": {},
     "output_type": "display_data"
    },
    {
     "data": {
      "application/javascript": [
       "(function(root) {\n",
       "  function embed_document(root) {\n",
       "    \n",
       "  var docs_json = {\"0367124e-05c1-46ab-87d1-7bb22be9e32a\":{\"roots\":{\"references\":[{\"attributes\":{\"line_width\":2,\"x\":{\"field\":\"x\"},\"y\":{\"field\":\"y\"}},\"id\":\"78521\",\"type\":\"Line\"},{\"attributes\":{\"callback\":null,\"data\":{\"x\":[0,1,2,3,4,5,6,7,8,9,10,11,12,13,14,15,16,17,18,19,20,21,22,23,24,25,26,27,28,29,30,31,32,33,34,35,36,37,38,39,40,41,42,43,44,45,46,47,48,49,50,51,52,53,54,55,56,57,58,59,60,61,62,63,64,65,66,67,68,69,70,71,72,73,74,75,76,77,78,79,80,81,82,83,84,85,86,87,88,89,90,91,92,93,94,95,96,97,98,99,100,101,102,103,104,105,106,107,108,109,110,111,112,113,114,115,116,117,118,119,120,121,122,123,124,125,126,127,128,129,130,131,132,133,134,135,136,137,138,139,140,141,142,143,144,145,146,147,148,149,150,151,152,153,154,155,156,157,158,159,160,161,162,163,164,165,166,167,168,169,170,171,172,173,174,175,176,177,178,179,180,181,182,183,184,185,186,187,188,189,190,191,192,193,194,195,196,197,198,199,200],\"y\":[0,1,2,3,4,5,6,7,8,9,10,11,12,13,14,15,15,40,0,0,1,2,3,4,5,6,7,8,9,10,11,12,12,13,13,13,13,14,14,14,14,14,14,14,14,14,15,40,-1,-1,-1,0,1,3,5,6,7,8,9,9,9,10,11,12,13,14,14,15,15,40,-1,0,0,2,3,4,5,7,8,9,10,11,12,13,13,14,14,14,14,14,14,14,15,40,-1,0,1,2,3,4,5,6,7,8,9,10,11,11,12,13,14,15,15,40,-1,-1,0,1,3,5,6,7,8,9,10,11,12,13,14,15,15,15,40,-1,0,1,2,3,4,5,7,8,9,10,11,12,13,14,15,15,15,40,0,0,2,3,4,5,6,7,8,8,9,10,11,12,13,14,14,15,15,15,15,15,15,40,-1,0,2,3,4,5,7,8,9,10,11,12,12,12,12,12,12,12,13,13,14,15,40,-1,-1]},\"selected\":{\"id\":\"79715\",\"type\":\"Selection\"},\"selection_policy\":{\"id\":\"79716\",\"type\":\"UnionRenderers\"}},\"id\":\"78520\",\"type\":\"ColumnDataSource\"},{\"attributes\":{\"data_source\":{\"id\":\"78520\",\"type\":\"ColumnDataSource\"},\"glyph\":{\"id\":\"78521\",\"type\":\"Line\"},\"hover_glyph\":null,\"muted_glyph\":null,\"nonselection_glyph\":{\"id\":\"78522\",\"type\":\"Line\"},\"selection_glyph\":null,\"view\":{\"id\":\"78524\",\"type\":\"CDSView\"}},\"id\":\"78523\",\"type\":\"GlyphRenderer\"},{\"attributes\":{\"line_alpha\":0.1,\"line_color\":\"#1f77b4\",\"line_width\":2,\"x\":{\"field\":\"x\"},\"y\":{\"field\":\"y\"}},\"id\":\"78522\",\"type\":\"Line\"},{\"attributes\":{\"source\":{\"id\":\"78520\",\"type\":\"ColumnDataSource\"}},\"id\":\"78524\",\"type\":\"CDSView\"},{\"attributes\":{\"below\":[{\"id\":\"78497\",\"type\":\"LinearAxis\"}],\"center\":[{\"id\":\"78501\",\"type\":\"Grid\"},{\"id\":\"78506\",\"type\":\"Grid\"}],\"left\":[{\"id\":\"78502\",\"type\":\"LinearAxis\"}],\"plot_height\":450,\"plot_width\":700,\"renderers\":[{\"id\":\"78523\",\"type\":\"GlyphRenderer\"}],\"title\":{\"id\":\"79710\",\"type\":\"Title\"},\"toolbar\":{\"id\":\"78513\",\"type\":\"Toolbar\"},\"x_range\":{\"id\":\"78489\",\"type\":\"DataRange1d\"},\"x_scale\":{\"id\":\"78493\",\"type\":\"LinearScale\"},\"y_range\":{\"id\":\"78491\",\"type\":\"DataRange1d\"},\"y_scale\":{\"id\":\"78495\",\"type\":\"LinearScale\"}},\"id\":\"78488\",\"subtype\":\"Figure\",\"type\":\"Plot\"},{\"attributes\":{\"callback\":null},\"id\":\"78489\",\"type\":\"DataRange1d\"},{\"attributes\":{},\"id\":\"78510\",\"type\":\"SaveTool\"},{\"attributes\":{},\"id\":\"78511\",\"type\":\"ResetTool\"},{\"attributes\":{},\"id\":\"78512\",\"type\":\"HelpTool\"},{\"attributes\":{\"active_drag\":\"auto\",\"active_inspect\":\"auto\",\"active_multi\":null,\"active_scroll\":\"auto\",\"active_tap\":\"auto\",\"tools\":[{\"id\":\"78507\",\"type\":\"PanTool\"},{\"id\":\"78508\",\"type\":\"WheelZoomTool\"},{\"id\":\"78509\",\"type\":\"BoxZoomTool\"},{\"id\":\"78510\",\"type\":\"SaveTool\"},{\"id\":\"78511\",\"type\":\"ResetTool\"},{\"id\":\"78512\",\"type\":\"HelpTool\"}]},\"id\":\"78513\",\"type\":\"Toolbar\"},{\"attributes\":{},\"id\":\"78495\",\"type\":\"LinearScale\"},{\"attributes\":{\"formatter\":{\"id\":\"79712\",\"type\":\"BasicTickFormatter\"},\"ticker\":{\"id\":\"78498\",\"type\":\"BasicTicker\"}},\"id\":\"78497\",\"type\":\"LinearAxis\"},{\"attributes\":{\"callback\":null},\"id\":\"78491\",\"type\":\"DataRange1d\"},{\"attributes\":{},\"id\":\"78493\",\"type\":\"LinearScale\"},{\"attributes\":{},\"id\":\"78498\",\"type\":\"BasicTicker\"},{\"attributes\":{},\"id\":\"78507\",\"type\":\"PanTool\"},{\"attributes\":{\"dimension\":1,\"ticker\":{\"id\":\"78503\",\"type\":\"BasicTicker\"}},\"id\":\"78506\",\"type\":\"Grid\"},{\"attributes\":{},\"id\":\"78503\",\"type\":\"BasicTicker\"},{\"attributes\":{\"formatter\":{\"id\":\"79714\",\"type\":\"BasicTickFormatter\"},\"ticker\":{\"id\":\"78503\",\"type\":\"BasicTicker\"}},\"id\":\"78502\",\"type\":\"LinearAxis\"},{\"attributes\":{\"ticker\":{\"id\":\"78498\",\"type\":\"BasicTicker\"}},\"id\":\"78501\",\"type\":\"Grid\"},{\"attributes\":{},\"id\":\"79712\",\"type\":\"BasicTickFormatter\"},{\"attributes\":{},\"id\":\"79715\",\"type\":\"Selection\"},{\"attributes\":{},\"id\":\"79714\",\"type\":\"BasicTickFormatter\"},{\"attributes\":{\"bottom_units\":\"screen\",\"fill_alpha\":{\"value\":0.5},\"fill_color\":{\"value\":\"lightgrey\"},\"left_units\":\"screen\",\"level\":\"overlay\",\"line_alpha\":{\"value\":1.0},\"line_color\":{\"value\":\"black\"},\"line_dash\":[4,4],\"line_width\":{\"value\":2},\"render_mode\":\"css\",\"right_units\":\"screen\",\"top_units\":\"screen\"},\"id\":\"79717\",\"type\":\"BoxAnnotation\"},{\"attributes\":{},\"id\":\"79716\",\"type\":\"UnionRenderers\"},{\"attributes\":{\"text\":\"\"},\"id\":\"79710\",\"type\":\"Title\"},{\"attributes\":{\"overlay\":{\"id\":\"79717\",\"type\":\"BoxAnnotation\"}},\"id\":\"78509\",\"type\":\"BoxZoomTool\"},{\"attributes\":{},\"id\":\"78508\",\"type\":\"WheelZoomTool\"}],\"root_ids\":[\"78488\"]},\"title\":\"Bokeh Application\",\"version\":\"1.4.0\"}};\n",
       "  var render_items = [{\"docid\":\"0367124e-05c1-46ab-87d1-7bb22be9e32a\",\"roots\":{\"78488\":\"b86eeefc-2679-43cc-8a0f-a24a3690bc23\"}}];\n",
       "  root.Bokeh.embed.embed_items_notebook(docs_json, render_items);\n",
       "\n",
       "  }\n",
       "  if (root.Bokeh !== undefined) {\n",
       "    embed_document(root);\n",
       "  } else {\n",
       "    var attempts = 0;\n",
       "    var timer = setInterval(function(root) {\n",
       "      if (root.Bokeh !== undefined) {\n",
       "        clearInterval(timer);\n",
       "        embed_document(root);\n",
       "      } else {\n",
       "        attempts++;\n",
       "        if (attempts > 100) {\n",
       "          clearInterval(timer);\n",
       "          console.log(\"Bokeh: ERROR: Unable to run BokehJS code because BokehJS library is missing\");\n",
       "        }\n",
       "      }\n",
       "    }, 10, root)\n",
       "  }\n",
       "})(window);"
      ],
      "application/vnd.bokehjs_exec.v0+json": ""
     },
     "metadata": {
      "application/vnd.bokehjs_exec.v0+json": {
       "id": "78488"
      }
     },
     "output_type": "display_data"
    }
   ],
   "source": [
    "fig = figure(width=700, height=450)\n",
    "Vs, _, g = SLIF(V_reset = 0, V_thres = 16, tau = 12, R=6, Ek=-5, dur = 200, g_max=10, tau_r=5e-1, seed=123, V_bits=4, input_type=('constant', ''))\n",
    "fig.line(range(0, len(Vs)), Vs, color='black', line_width=2)\n",
    "show(fig)"
   ]
  },
  {
   "cell_type": "code",
   "execution_count": 165,
   "metadata": {},
   "outputs": [
    {
     "data": {
      "text/html": [
       "\n",
       "\n",
       "\n",
       "\n",
       "\n",
       "\n",
       "  <div class=\"bk-root\" id=\"914a294a-9b13-4a27-9f19-205a16673c15\" data-root-id=\"79804\"></div>\n"
      ]
     },
     "metadata": {},
     "output_type": "display_data"
    },
    {
     "data": {
      "application/javascript": [
       "(function(root) {\n",
       "  function embed_document(root) {\n",
       "    \n",
       "  var docs_json = {\"d892e781-5ba6-4a94-ae89-e1b9f198177d\":{\"roots\":{\"references\":[{\"attributes\":{},\"id\":\"79827\",\"type\":\"ResetTool\"},{\"attributes\":{},\"id\":\"79826\",\"type\":\"SaveTool\"},{\"attributes\":{\"overlay\":{\"id\":\"81049\",\"type\":\"BoxAnnotation\"}},\"id\":\"79825\",\"type\":\"BoxZoomTool\"},{\"attributes\":{},\"id\":\"79824\",\"type\":\"WheelZoomTool\"},{\"attributes\":{},\"id\":\"79823\",\"type\":\"PanTool\"},{\"attributes\":{\"dimension\":1,\"ticker\":{\"id\":\"79819\",\"type\":\"BasicTicker\"}},\"id\":\"79822\",\"type\":\"Grid\"},{\"attributes\":{\"active_drag\":\"auto\",\"active_inspect\":\"auto\",\"active_multi\":null,\"active_scroll\":\"auto\",\"active_tap\":\"auto\",\"tools\":[{\"id\":\"79823\",\"type\":\"PanTool\"},{\"id\":\"79824\",\"type\":\"WheelZoomTool\"},{\"id\":\"79825\",\"type\":\"BoxZoomTool\"},{\"id\":\"79826\",\"type\":\"SaveTool\"},{\"id\":\"79827\",\"type\":\"ResetTool\"},{\"id\":\"79828\",\"type\":\"HelpTool\"}]},\"id\":\"79829\",\"type\":\"Toolbar\"},{\"attributes\":{},\"id\":\"79828\",\"type\":\"HelpTool\"},{\"attributes\":{\"source\":{\"id\":\"79841\",\"type\":\"ColumnDataSource\"}},\"id\":\"79845\",\"type\":\"CDSView\"},{\"attributes\":{\"data_source\":{\"id\":\"79841\",\"type\":\"ColumnDataSource\"},\"glyph\":{\"id\":\"79842\",\"type\":\"Line\"},\"hover_glyph\":null,\"muted_glyph\":null,\"nonselection_glyph\":{\"id\":\"79843\",\"type\":\"Line\"},\"selection_glyph\":null,\"view\":{\"id\":\"79845\",\"type\":\"CDSView\"}},\"id\":\"79844\",\"type\":\"GlyphRenderer\"},{\"attributes\":{\"callback\":null,\"data\":{\"x\":{\"__ndarray__\":\"AAAAAAAAAAAAAAAAAAAEQAAAAAAAABRAAAAAAAAAHkAAAAAAAAAkQAAAAAAAAClAAAAAAAAALkAAAAAAAIAxQAAAAAAAADRAAAAAAACANkAAAAAAAAA5QAAAAAAAgDtAAAAAAAAAPkAAAAAAAEBAQAAAAAAAgEFAAAAAAADAQkAAAAAAAABEQAAAAAAAQEVAAAAAAACARkAAAAAAAMBHQAAAAAAAAElAAAAAAABASkAAAAAAAIBLQAAAAAAAwExAAAAAAAAATkAAAAAAAEBPQAAAAAAAQFBAAAAAAADgUEAAAAAAAIBRQAAAAAAAIFJAAAAAAADAUkAAAAAAAGBTQAAAAAAAAFRAAAAAAACgVEAAAAAAAEBVQAAAAAAA4FVAAAAAAACAVkAAAAAAACBXQAAAAAAAwFdAAAAAAABgWEAAAAAAAABZQA==\",\"dtype\":\"float64\",\"shape\":[41]},\"y\":{\"__ndarray__\":\"AAAAAAAAAAAAAAAAAAAAAAAAAAAAAAAAAAAAAAAAAAAAAAAAAAAAAAAAAAAAAAAAAAAAAAAAAABLRkKZe1RTQFaofAdJl1tAuxCk7qT/V0D8vLEaP8lRQNTYSIBXVEhA48+GgQ61P0DBfYZXmAA0QDE8sN1GqChAjq/3sJLeHUAObuIE1tgRQE+30+2GGAVAMdZZNc22+D/Dx+4h3bzsP5zEhnJfmuA/AZmEY7AU0z+uOJlqVdPFPyGm0hjK3Lg/GZJMEx04rD+dy9+Q/OyfP9foye/hAZI/aHSPA8VChD82J7nPGL52P6KrEfo8eWk/RQ29xwh6XD8IywYl1cZPP2fCh79Ds0E/4XsXwE6wMz+/vpngnN4lPySvi8GYQhg/XwYoww3hCj/q/0ILML/9Prny05hScfA+A7Ie0MYo4j68f6BaRwnUPg==\",\"dtype\":\"float64\",\"shape\":[41]}},\"selected\":{\"id\":\"81047\",\"type\":\"Selection\"},\"selection_policy\":{\"id\":\"81048\",\"type\":\"UnionRenderers\"}},\"id\":\"79841\",\"type\":\"ColumnDataSource\"},{\"attributes\":{\"source\":{\"id\":\"79836\",\"type\":\"ColumnDataSource\"}},\"id\":\"79840\",\"type\":\"CDSView\"},{\"attributes\":{\"line_alpha\":0.1,\"line_color\":\"#1f77b4\",\"line_width\":8,\"x\":{\"field\":\"x\"},\"y\":{\"field\":\"y\"}},\"id\":\"79843\",\"type\":\"Line\"},{\"attributes\":{\"line_alpha\":0.7,\"line_color\":\"#1f77b4\",\"line_width\":8,\"x\":{\"field\":\"x\"},\"y\":{\"field\":\"y\"}},\"id\":\"79842\",\"type\":\"Line\"},{\"attributes\":{\"callback\":null},\"id\":\"79805\",\"type\":\"DataRange1d\"},{\"attributes\":{\"below\":[{\"id\":\"79813\",\"type\":\"LinearAxis\"}],\"center\":[{\"id\":\"79817\",\"type\":\"Grid\"},{\"id\":\"79822\",\"type\":\"Grid\"}],\"left\":[{\"id\":\"79818\",\"type\":\"LinearAxis\"}],\"plot_height\":450,\"plot_width\":700,\"renderers\":[{\"id\":\"79839\",\"type\":\"GlyphRenderer\"},{\"id\":\"79844\",\"type\":\"GlyphRenderer\"}],\"title\":{\"id\":\"81040\",\"type\":\"Title\"},\"toolbar\":{\"id\":\"79829\",\"type\":\"Toolbar\"},\"x_range\":{\"id\":\"79805\",\"type\":\"DataRange1d\"},\"x_scale\":{\"id\":\"79809\",\"type\":\"LinearScale\"},\"y_range\":{\"id\":\"79807\",\"type\":\"DataRange1d\"},\"y_scale\":{\"id\":\"79811\",\"type\":\"LinearScale\"}},\"id\":\"79804\",\"subtype\":\"Figure\",\"type\":\"Plot\"},{\"attributes\":{\"callback\":null},\"id\":\"79807\",\"type\":\"DataRange1d\"},{\"attributes\":{},\"id\":\"81048\",\"type\":\"UnionRenderers\"},{\"attributes\":{\"bottom_units\":\"screen\",\"fill_alpha\":{\"value\":0.5},\"fill_color\":{\"value\":\"lightgrey\"},\"left_units\":\"screen\",\"level\":\"overlay\",\"line_alpha\":{\"value\":1.0},\"line_color\":{\"value\":\"black\"},\"line_dash\":[4,4],\"line_width\":{\"value\":2},\"render_mode\":\"css\",\"right_units\":\"screen\",\"top_units\":\"screen\"},\"id\":\"81049\",\"type\":\"BoxAnnotation\"},{\"attributes\":{},\"id\":\"81042\",\"type\":\"BasicTickFormatter\"},{\"attributes\":{\"text\":\"\"},\"id\":\"81040\",\"type\":\"Title\"},{\"attributes\":{},\"id\":\"81046\",\"type\":\"UnionRenderers\"},{\"attributes\":{},\"id\":\"81047\",\"type\":\"Selection\"},{\"attributes\":{},\"id\":\"81044\",\"type\":\"BasicTickFormatter\"},{\"attributes\":{},\"id\":\"81045\",\"type\":\"Selection\"},{\"attributes\":{},\"id\":\"79809\",\"type\":\"LinearScale\"},{\"attributes\":{\"callback\":null,\"data\":{\"left\":{\"__ndarray__\":\"AAAAAAAAAAAAAAAAAAAEQAAAAAAAABRAAAAAAAAAHkAAAAAAAAAkQAAAAAAAAClAAAAAAAAALkAAAAAAAIAxQAAAAAAAADRAAAAAAACANkAAAAAAAAA5QAAAAAAAgDtAAAAAAAAAPkAAAAAAAEBAQAAAAAAAgEFAAAAAAADAQkAAAAAAAABEQAAAAAAAQEVAAAAAAACARkAAAAAAAMBHQAAAAAAAAElAAAAAAABASkAAAAAAAIBLQAAAAAAAwExAAAAAAAAATkAAAAAAAEBPQAAAAAAAQFBAAAAAAADgUEAAAAAAAIBRQAAAAAAAIFJAAAAAAADAUkAAAAAAAGBTQAAAAAAAAFRAAAAAAACgVEAAAAAAAEBVQAAAAAAA4FVAAAAAAACAVkAAAAAAACBXQAAAAAAAwFdAAAAAAABgWEA=\",\"dtype\":\"float64\",\"shape\":[40]},\"right\":{\"__ndarray__\":\"AAAAAAAABEAAAAAAAAAUQAAAAAAAAB5AAAAAAAAAJEAAAAAAAAApQAAAAAAAAC5AAAAAAACAMUAAAAAAAAA0QAAAAAAAgDZAAAAAAAAAOUAAAAAAAIA7QAAAAAAAAD5AAAAAAABAQEAAAAAAAIBBQAAAAAAAwEJAAAAAAAAAREAAAAAAAEBFQAAAAAAAgEZAAAAAAADAR0AAAAAAAABJQAAAAAAAQEpAAAAAAACAS0AAAAAAAMBMQAAAAAAAAE5AAAAAAABAT0AAAAAAAEBQQAAAAAAA4FBAAAAAAACAUUAAAAAAACBSQAAAAAAAwFJAAAAAAABgU0AAAAAAAABUQAAAAAAAoFRAAAAAAABAVUAAAAAAAOBVQAAAAAAAgFZAAAAAAAAgV0AAAAAAAMBXQAAAAAAAYFhAAAAAAAAAWUA=\",\"dtype\":\"float64\",\"shape\":[40]},\"top\":[0,0,0,0,0,0,30,60,126,71,68,19,25,7,7,5,2,4,0,0,0,0,0,0,0,0,0,0,0,0,0,0,0,0,0,0,0,0,0,0]},\"selected\":{\"id\":\"81045\",\"type\":\"Selection\"},\"selection_policy\":{\"id\":\"81046\",\"type\":\"UnionRenderers\"}},\"id\":\"79836\",\"type\":\"ColumnDataSource\"},{\"attributes\":{\"bottom\":{\"value\":0},\"fill_color\":{\"value\":\"black\"},\"left\":{\"field\":\"left\"},\"line_color\":{\"value\":\"grey\"},\"right\":{\"field\":\"right\"},\"top\":{\"field\":\"top\"}},\"id\":\"79837\",\"type\":\"Quad\"},{\"attributes\":{\"bottom\":{\"value\":0},\"fill_alpha\":{\"value\":0.1},\"fill_color\":{\"value\":\"#1f77b4\"},\"left\":{\"field\":\"left\"},\"line_alpha\":{\"value\":0.1},\"line_color\":{\"value\":\"#1f77b4\"},\"right\":{\"field\":\"right\"},\"top\":{\"field\":\"top\"}},\"id\":\"79838\",\"type\":\"Quad\"},{\"attributes\":{\"data_source\":{\"id\":\"79836\",\"type\":\"ColumnDataSource\"},\"glyph\":{\"id\":\"79837\",\"type\":\"Quad\"},\"hover_glyph\":null,\"muted_glyph\":null,\"nonselection_glyph\":{\"id\":\"79838\",\"type\":\"Quad\"},\"selection_glyph\":null,\"view\":{\"id\":\"79840\",\"type\":\"CDSView\"}},\"id\":\"79839\",\"type\":\"GlyphRenderer\"},{\"attributes\":{\"formatter\":{\"id\":\"81044\",\"type\":\"BasicTickFormatter\"},\"ticker\":{\"id\":\"79819\",\"type\":\"BasicTicker\"}},\"id\":\"79818\",\"type\":\"LinearAxis\"},{\"attributes\":{},\"id\":\"79819\",\"type\":\"BasicTicker\"},{\"attributes\":{\"formatter\":{\"id\":\"81042\",\"type\":\"BasicTickFormatter\"},\"ticker\":{\"id\":\"79814\",\"type\":\"BasicTicker\"}},\"id\":\"79813\",\"type\":\"LinearAxis\"},{\"attributes\":{},\"id\":\"79811\",\"type\":\"LinearScale\"},{\"attributes\":{\"ticker\":{\"id\":\"79814\",\"type\":\"BasicTicker\"}},\"id\":\"79817\",\"type\":\"Grid\"},{\"attributes\":{},\"id\":\"79814\",\"type\":\"BasicTicker\"}],\"root_ids\":[\"79804\"]},\"title\":\"Bokeh Application\",\"version\":\"1.4.0\"}};\n",
       "  var render_items = [{\"docid\":\"d892e781-5ba6-4a94-ae89-e1b9f198177d\",\"roots\":{\"79804\":\"914a294a-9b13-4a27-9f19-205a16673c15\"}}];\n",
       "  root.Bokeh.embed.embed_items_notebook(docs_json, render_items);\n",
       "\n",
       "  }\n",
       "  if (root.Bokeh !== undefined) {\n",
       "    embed_document(root);\n",
       "  } else {\n",
       "    var attempts = 0;\n",
       "    var timer = setInterval(function(root) {\n",
       "      if (root.Bokeh !== undefined) {\n",
       "        clearInterval(timer);\n",
       "        embed_document(root);\n",
       "      } else {\n",
       "        attempts++;\n",
       "        if (attempts > 100) {\n",
       "          clearInterval(timer);\n",
       "          console.log(\"Bokeh: ERROR: Unable to run BokehJS code because BokehJS library is missing\");\n",
       "        }\n",
       "      }\n",
       "    }, 10, root)\n",
       "  }\n",
       "})(window);"
      ],
      "application/vnd.bokehjs_exec.v0+json": ""
     },
     "metadata": {
      "application/vnd.bokehjs_exec.v0+json": {
       "id": "79804"
      }
     },
     "output_type": "display_data"
    }
   ],
   "source": [
    "fig = figure(width=700, height=450)\n",
    "Vs, ST, _ = SLIF(V_reset = 0, V_thres = 16, tau = 12, R=6, Ek=-5, dur = 10000, g_max=10, tau_r=5e-1, seed=123, V_bits=4, input_type=('constant',''))\n",
    "ISI = ST[1:-1] - ST[0:-2]\n",
    "hist, edges = np.histogram(ISI, bins=40, range=(0,100))\n",
    "fig.quad(top=hist, bottom=0, fill_color='black', line_color='grey', left=edges[:-1], right=edges[1:])\n",
    "fig.line(edges, 1200*gamma.pdf(edges, 2, scale=4, loc=16), line_width=8, alpha=0.7)\n",
    "show(fig)"
   ]
  },
  {
   "cell_type": "markdown",
   "metadata": {},
   "source": [
    "Another option is explicity declare a period of time after an action potential in which the membrane potential is clamped to a certain value. This is shown below:"
   ]
  },
  {
   "cell_type": "code",
   "execution_count": 53,
   "metadata": {
    "scrolled": false
   },
   "outputs": [
    {
     "data": {
      "text/html": [
       "\n",
       "\n",
       "\n",
       "\n",
       "\n",
       "\n",
       "  <div class=\"bk-root\" id=\"a7eb1579-5abe-47f1-a689-926496bc6037\" data-root-id=\"9759\"></div>\n"
      ]
     },
     "metadata": {},
     "output_type": "display_data"
    },
    {
     "data": {
      "application/javascript": [
       "(function(root) {\n",
       "  function embed_document(root) {\n",
       "    \n",
       "  var docs_json = {\"5e903163-3e5e-4724-b230-3fdef1944565\":{\"roots\":{\"references\":[{\"attributes\":{},\"id\":\"9764\",\"type\":\"LinearScale\"},{\"attributes\":{},\"id\":\"9779\",\"type\":\"WheelZoomTool\"},{\"attributes\":{},\"id\":\"9778\",\"type\":\"PanTool\"},{\"attributes\":{},\"id\":\"9774\",\"type\":\"BasicTicker\"},{\"attributes\":{\"dimension\":1,\"ticker\":{\"id\":\"9774\",\"type\":\"BasicTicker\"}},\"id\":\"9777\",\"type\":\"Grid\"},{\"attributes\":{\"below\":[{\"id\":\"9768\",\"type\":\"LinearAxis\"}],\"center\":[{\"id\":\"9772\",\"type\":\"Grid\"},{\"id\":\"9777\",\"type\":\"Grid\"}],\"left\":[{\"id\":\"9773\",\"type\":\"LinearAxis\"}],\"plot_height\":450,\"plot_width\":700,\"renderers\":[{\"id\":\"9794\",\"type\":\"GlyphRenderer\"}],\"title\":{\"id\":\"10111\",\"type\":\"Title\"},\"toolbar\":{\"id\":\"9784\",\"type\":\"Toolbar\"},\"x_range\":{\"id\":\"9760\",\"type\":\"DataRange1d\"},\"x_scale\":{\"id\":\"9764\",\"type\":\"LinearScale\"},\"y_range\":{\"id\":\"9762\",\"type\":\"DataRange1d\"},\"y_scale\":{\"id\":\"9766\",\"type\":\"LinearScale\"}},\"id\":\"9759\",\"subtype\":\"Figure\",\"type\":\"Plot\"},{\"attributes\":{\"ticker\":{\"id\":\"9769\",\"type\":\"BasicTicker\"}},\"id\":\"9772\",\"type\":\"Grid\"},{\"attributes\":{},\"id\":\"9769\",\"type\":\"BasicTicker\"},{\"attributes\":{\"overlay\":{\"id\":\"10118\",\"type\":\"BoxAnnotation\"}},\"id\":\"9780\",\"type\":\"BoxZoomTool\"},{\"attributes\":{},\"id\":\"9781\",\"type\":\"SaveTool\"},{\"attributes\":{},\"id\":\"9782\",\"type\":\"ResetTool\"},{\"attributes\":{},\"id\":\"9783\",\"type\":\"HelpTool\"},{\"attributes\":{\"active_drag\":\"auto\",\"active_inspect\":\"auto\",\"active_multi\":null,\"active_scroll\":\"auto\",\"active_tap\":\"auto\",\"tools\":[{\"id\":\"9778\",\"type\":\"PanTool\"},{\"id\":\"9779\",\"type\":\"WheelZoomTool\"},{\"id\":\"9780\",\"type\":\"BoxZoomTool\"},{\"id\":\"9781\",\"type\":\"SaveTool\"},{\"id\":\"9782\",\"type\":\"ResetTool\"},{\"id\":\"9783\",\"type\":\"HelpTool\"}]},\"id\":\"9784\",\"type\":\"Toolbar\"},{\"attributes\":{\"formatter\":{\"id\":\"10115\",\"type\":\"BasicTickFormatter\"},\"ticker\":{\"id\":\"9774\",\"type\":\"BasicTicker\"}},\"id\":\"9773\",\"type\":\"LinearAxis\"},{\"attributes\":{\"callback\":null},\"id\":\"9762\",\"type\":\"DataRange1d\"},{\"attributes\":{\"callback\":null},\"id\":\"9760\",\"type\":\"DataRange1d\"},{\"attributes\":{},\"id\":\"9766\",\"type\":\"LinearScale\"},{\"attributes\":{\"bottom_units\":\"screen\",\"fill_alpha\":{\"value\":0.5},\"fill_color\":{\"value\":\"lightgrey\"},\"left_units\":\"screen\",\"level\":\"overlay\",\"line_alpha\":{\"value\":1.0},\"line_color\":{\"value\":\"black\"},\"line_dash\":[4,4],\"line_width\":{\"value\":2},\"render_mode\":\"css\",\"right_units\":\"screen\",\"top_units\":\"screen\"},\"id\":\"10118\",\"type\":\"BoxAnnotation\"},{\"attributes\":{},\"id\":\"10116\",\"type\":\"Selection\"},{\"attributes\":{},\"id\":\"10117\",\"type\":\"UnionRenderers\"},{\"attributes\":{\"formatter\":{\"id\":\"10113\",\"type\":\"BasicTickFormatter\"},\"ticker\":{\"id\":\"9769\",\"type\":\"BasicTicker\"}},\"id\":\"9768\",\"type\":\"LinearAxis\"},{\"attributes\":{},\"id\":\"10115\",\"type\":\"BasicTickFormatter\"},{\"attributes\":{},\"id\":\"10113\",\"type\":\"BasicTickFormatter\"},{\"attributes\":{\"text\":\"\"},\"id\":\"10111\",\"type\":\"Title\"},{\"attributes\":{\"line_alpha\":0.1,\"line_color\":\"#1f77b4\",\"line_width\":2,\"x\":{\"field\":\"x\"},\"y\":{\"field\":\"y\"}},\"id\":\"9793\",\"type\":\"Line\"},{\"attributes\":{\"line_width\":2,\"x\":{\"field\":\"x\"},\"y\":{\"field\":\"y\"}},\"id\":\"9792\",\"type\":\"Line\"},{\"attributes\":{\"callback\":null,\"data\":{\"x\":[0,1,2,3,4,5,6,7,8,9,10,11,12,13,14,15,16,17,18,19,20,21,22,23,24,25,26,27,28,29,30,31,32,33,34,35,36,37,38,39,40,41,42,43,44,45,46,47,48,49,50,51,52,53,54,55,56,57,58,59,60,61,62,63,64,65,66,67,68,69,70,71,72,73,74,75,76,77,78,79,80,81,82,83,84,85,86,87,88,89,90,91,92,93,94,95,96,97,98,99,100,101,102,103,104,105,106,107,108,109,110,111,112,113,114,115,116,117,118,119,120,121,122,123,124,125,126,127,128,129,130,131,132,133,134,135,136,137,138,139,140,141,142,143,144,145,146,147,148,149,150,151,152,153,154,155,156,157,158,159,160,161,162,163,164,165,166,167,168,169,170,171,172,173,174,175,176,177,178,179,180,181,182,183,184,185,186,187,188,189,190,191,192,193,194,195,196,197,198,199,200],\"y\":[0,1,2,3,4,5,6,6,6,6,6,6,7,8,9,10,10,10,11,11,11,11,12,13,13,14,14,14,14,14,15,-50,-44,-39,-34,-30,-27,-24,-20,-17,-14,-12,-10,-8,-6,-4,-2,0,1,2,3,4,5,6,7,8,9,10,11,12,13,13,14,15,15,15,15,-50,-44,-39,-34,-30,-27,-24,-21,-19,-17,-15,-13,-11,-9,-7,-5,-3,-2,-1,0,1,2,3,4,5,5,5,6,7,7,7,8,9,10,11,11,12,12,13,13,14,15,15,-50,-44,-39,-35,-31,-27,-23,-19,-16,-13,-11,-9,-7,-5,-4,-3,-2,-1,0,1,2,3,4,5,6,6,6,7,7,8,9,10,11,12,13,13,14,15,-50,-44,-39,-35,-31,-27,-24,-21,-19,-17,-15,-12,-10,-8,-6,-5,-4,-2,-1,0,1,2,3,3,4,5,5,6,7,7,8,8,8,9,9,9,10,10,11,11,12,12,12,12,12,12,12,13,13,13,13,13,13]},\"selected\":{\"id\":\"10116\",\"type\":\"Selection\"},\"selection_policy\":{\"id\":\"10117\",\"type\":\"UnionRenderers\"}},\"id\":\"9791\",\"type\":\"ColumnDataSource\"},{\"attributes\":{\"source\":{\"id\":\"9791\",\"type\":\"ColumnDataSource\"}},\"id\":\"9795\",\"type\":\"CDSView\"},{\"attributes\":{\"data_source\":{\"id\":\"9791\",\"type\":\"ColumnDataSource\"},\"glyph\":{\"id\":\"9792\",\"type\":\"Line\"},\"hover_glyph\":null,\"muted_glyph\":null,\"nonselection_glyph\":{\"id\":\"9793\",\"type\":\"Line\"},\"selection_glyph\":null,\"view\":{\"id\":\"9795\",\"type\":\"CDSView\"}},\"id\":\"9794\",\"type\":\"GlyphRenderer\"}],\"root_ids\":[\"9759\"]},\"title\":\"Bokeh Application\",\"version\":\"1.4.0\"}};\n",
       "  var render_items = [{\"docid\":\"5e903163-3e5e-4724-b230-3fdef1944565\",\"roots\":{\"9759\":\"a7eb1579-5abe-47f1-a689-926496bc6037\"}}];\n",
       "  root.Bokeh.embed.embed_items_notebook(docs_json, render_items);\n",
       "\n",
       "  }\n",
       "  if (root.Bokeh !== undefined) {\n",
       "    embed_document(root);\n",
       "  } else {\n",
       "    var attempts = 0;\n",
       "    var timer = setInterval(function(root) {\n",
       "      if (root.Bokeh !== undefined) {\n",
       "        clearInterval(timer);\n",
       "        embed_document(root);\n",
       "      } else {\n",
       "        attempts++;\n",
       "        if (attempts > 100) {\n",
       "          clearInterval(timer);\n",
       "          console.log(\"Bokeh: ERROR: Unable to run BokehJS code because BokehJS library is missing\");\n",
       "        }\n",
       "      }\n",
       "    }, 10, root)\n",
       "  }\n",
       "})(window);"
      ],
      "application/vnd.bokehjs_exec.v0+json": ""
     },
     "metadata": {
      "application/vnd.bokehjs_exec.v0+json": {
       "id": "9759"
      }
     },
     "output_type": "display_data"
    }
   ],
   "source": [
    "fig = figure(width=700, height=450)\n",
    "Vs, ST = SLIF2(V_reset = -50, V_thres = 16, seed=12345, V_bits=4, tau = 19, tau_r = 10, dur = 200, input_type=('constant',''))\n",
    "fig.line(range(0, len(Vs)), Vs, color='black', line_width=2)\n",
    "show(fig)"
   ]
  },
  {
   "cell_type": "code",
   "execution_count": 43,
   "metadata": {
    "scrolled": false
   },
   "outputs": [
    {
     "data": {
      "text/html": [
       "\n",
       "\n",
       "\n",
       "\n",
       "\n",
       "\n",
       "  <div class=\"bk-root\" id=\"5e793416-cbcd-4fc6-af54-6cdc71055698\" data-root-id=\"6754\"></div>\n"
      ]
     },
     "metadata": {},
     "output_type": "display_data"
    },
    {
     "data": {
      "application/javascript": [
       "(function(root) {\n",
       "  function embed_document(root) {\n",
       "    \n",
       "  var docs_json = {\"9f306885-fe61-40ce-9e8e-924f08aa3937\":{\"roots\":{\"references\":[{\"attributes\":{\"below\":[{\"id\":\"6763\",\"type\":\"LinearAxis\"}],\"center\":[{\"id\":\"6767\",\"type\":\"Grid\"},{\"id\":\"6772\",\"type\":\"Grid\"}],\"left\":[{\"id\":\"6768\",\"type\":\"LinearAxis\"}],\"plot_height\":450,\"plot_width\":700,\"renderers\":[{\"id\":\"6789\",\"type\":\"GlyphRenderer\"},{\"id\":\"6794\",\"type\":\"GlyphRenderer\"}],\"title\":{\"id\":\"7037\",\"type\":\"Title\"},\"toolbar\":{\"id\":\"6779\",\"type\":\"Toolbar\"},\"x_range\":{\"id\":\"6755\",\"type\":\"DataRange1d\"},\"x_scale\":{\"id\":\"6759\",\"type\":\"LinearScale\"},\"y_range\":{\"id\":\"6757\",\"type\":\"DataRange1d\"},\"y_scale\":{\"id\":\"6761\",\"type\":\"LinearScale\"}},\"id\":\"6754\",\"subtype\":\"Figure\",\"type\":\"Plot\"},{\"attributes\":{\"text\":\"\"},\"id\":\"7037\",\"type\":\"Title\"},{\"attributes\":{},\"id\":\"7039\",\"type\":\"BasicTickFormatter\"},{\"attributes\":{},\"id\":\"6773\",\"type\":\"PanTool\"},{\"attributes\":{\"bottom\":{\"value\":0},\"fill_color\":{\"value\":\"black\"},\"left\":{\"field\":\"left\"},\"line_color\":{\"value\":\"grey\"},\"right\":{\"field\":\"right\"},\"top\":{\"field\":\"top\"}},\"id\":\"6787\",\"type\":\"Quad\"},{\"attributes\":{\"formatter\":{\"id\":\"7041\",\"type\":\"BasicTickFormatter\"},\"ticker\":{\"id\":\"6769\",\"type\":\"BasicTicker\"}},\"id\":\"6768\",\"type\":\"LinearAxis\"},{\"attributes\":{\"data_source\":{\"id\":\"6786\",\"type\":\"ColumnDataSource\"},\"glyph\":{\"id\":\"6787\",\"type\":\"Quad\"},\"hover_glyph\":null,\"muted_glyph\":null,\"nonselection_glyph\":{\"id\":\"6788\",\"type\":\"Quad\"},\"selection_glyph\":null,\"view\":{\"id\":\"6790\",\"type\":\"CDSView\"}},\"id\":\"6789\",\"type\":\"GlyphRenderer\"},{\"attributes\":{\"bottom\":{\"value\":0},\"fill_alpha\":{\"value\":0.1},\"fill_color\":{\"value\":\"#1f77b4\"},\"left\":{\"field\":\"left\"},\"line_alpha\":{\"value\":0.1},\"line_color\":{\"value\":\"#1f77b4\"},\"right\":{\"field\":\"right\"},\"top\":{\"field\":\"top\"}},\"id\":\"6788\",\"type\":\"Quad\"},{\"attributes\":{},\"id\":\"6764\",\"type\":\"BasicTicker\"},{\"attributes\":{\"formatter\":{\"id\":\"7039\",\"type\":\"BasicTickFormatter\"},\"ticker\":{\"id\":\"6764\",\"type\":\"BasicTicker\"}},\"id\":\"6763\",\"type\":\"LinearAxis\"},{\"attributes\":{\"callback\":null,\"data\":{\"left\":{\"__ndarray__\":\"AAAAAAAAAACrqqqqqqoKQKuqqqqqqhpAAAAAAAAAJECrqqqqqqoqQKuqqqqqqjBAAAAAAAAANEBWVVVVVVU3QKuqqqqqqjpAAAAAAAAAPkCrqqqqqqpAQFZVVVVVVUJAAAAAAAAARECrqqqqqqpFQFZVVVVVVUdAAAAAAAAASUCrqqqqqqpKQFZVVVVVVUxAAAAAAAAATkCrqqqqqqpPQKuqqqqqqlBAAAAAAACAUUBWVVVVVVVSQKuqqqqqKlNAAAAAAAAAVEBWVVVVVdVUQKuqqqqqqlVAAAAAAACAVkBWVVVVVVVXQKuqqqqqKlhA\",\"dtype\":\"float64\",\"shape\":[30]},\"right\":{\"__ndarray__\":\"q6qqqqqqCkCrqqqqqqoaQAAAAAAAACRAq6qqqqqqKkCrqqqqqqowQAAAAAAAADRAVlVVVVVVN0Crqqqqqqo6QAAAAAAAAD5Aq6qqqqqqQEBWVVVVVVVCQAAAAAAAAERAq6qqqqqqRUBWVVVVVVVHQAAAAAAAAElAq6qqqqqqSkBWVVVVVVVMQAAAAAAAAE5Aq6qqqqqqT0CrqqqqqqpQQAAAAAAAgFFAVlVVVVVVUkCrqqqqqipTQAAAAAAAAFRAVlVVVVXVVECrqqqqqqpVQAAAAAAAgFZAVlVVVVVVV0CrqqqqqipYQAAAAAAAAFlA\",\"dtype\":\"float64\",\"shape\":[30]},\"top\":[0,0,0,0,0,0,21,28,42,60,31,32,26,12,13,17,3,1,1,0,0,0,0,0,0,0,0,0,0,0]},\"selected\":{\"id\":\"7042\",\"type\":\"Selection\"},\"selection_policy\":{\"id\":\"7043\",\"type\":\"UnionRenderers\"}},\"id\":\"6786\",\"type\":\"ColumnDataSource\"},{\"attributes\":{},\"id\":\"6761\",\"type\":\"LinearScale\"},{\"attributes\":{},\"id\":\"6769\",\"type\":\"BasicTicker\"},{\"attributes\":{},\"id\":\"7045\",\"type\":\"UnionRenderers\"},{\"attributes\":{},\"id\":\"7044\",\"type\":\"Selection\"},{\"attributes\":{\"source\":{\"id\":\"6791\",\"type\":\"ColumnDataSource\"}},\"id\":\"6795\",\"type\":\"CDSView\"},{\"attributes\":{},\"id\":\"7041\",\"type\":\"BasicTickFormatter\"},{\"attributes\":{},\"id\":\"7043\",\"type\":\"UnionRenderers\"},{\"attributes\":{},\"id\":\"7042\",\"type\":\"Selection\"},{\"attributes\":{},\"id\":\"6778\",\"type\":\"HelpTool\"},{\"attributes\":{\"active_drag\":\"auto\",\"active_inspect\":\"auto\",\"active_multi\":null,\"active_scroll\":\"auto\",\"active_tap\":\"auto\",\"tools\":[{\"id\":\"6773\",\"type\":\"PanTool\"},{\"id\":\"6774\",\"type\":\"WheelZoomTool\"},{\"id\":\"6775\",\"type\":\"BoxZoomTool\"},{\"id\":\"6776\",\"type\":\"SaveTool\"},{\"id\":\"6777\",\"type\":\"ResetTool\"},{\"id\":\"6778\",\"type\":\"HelpTool\"}]},\"id\":\"6779\",\"type\":\"Toolbar\"},{\"attributes\":{\"data_source\":{\"id\":\"6791\",\"type\":\"ColumnDataSource\"},\"glyph\":{\"id\":\"6792\",\"type\":\"Line\"},\"hover_glyph\":null,\"muted_glyph\":null,\"nonselection_glyph\":{\"id\":\"6793\",\"type\":\"Line\"},\"selection_glyph\":null,\"view\":{\"id\":\"6795\",\"type\":\"CDSView\"}},\"id\":\"6794\",\"type\":\"GlyphRenderer\"},{\"attributes\":{},\"id\":\"6759\",\"type\":\"LinearScale\"},{\"attributes\":{\"line_alpha\":0.7,\"line_color\":\"#1f77b4\",\"line_width\":8,\"x\":{\"field\":\"x\"},\"y\":{\"field\":\"y\"}},\"id\":\"6792\",\"type\":\"Line\"},{\"attributes\":{\"line_alpha\":0.1,\"line_color\":\"#1f77b4\",\"line_width\":8,\"x\":{\"field\":\"x\"},\"y\":{\"field\":\"y\"}},\"id\":\"6793\",\"type\":\"Line\"},{\"attributes\":{\"source\":{\"id\":\"6786\",\"type\":\"ColumnDataSource\"}},\"id\":\"6790\",\"type\":\"CDSView\"},{\"attributes\":{\"callback\":null,\"data\":{\"x\":{\"__ndarray__\":\"AAAAAAAAAACrqqqqqqoKQKuqqqqqqhpAAAAAAAAAJECrqqqqqqoqQKuqqqqqqjBAAAAAAAAANEBWVVVVVVU3QKuqqqqqqjpAAAAAAAAAPkCrqqqqqqpAQFZVVVVVVUJAAAAAAAAARECrqqqqqqpFQFZVVVVVVUdAAAAAAAAASUCrqqqqqqpKQFZVVVVVVUxAAAAAAAAATkCrqqqqqqpPQKuqqqqqqlBAAAAAAACAUUBWVVVVVVVSQKuqqqqqKlNAAAAAAAAAVEBWVVVVVdVUQKuqqqqqqlVAAAAAAACAVkBWVVVVVVVXQKuqqqqqKlhAAAAAAAAAWUA=\",\"dtype\":\"float64\",\"shape\":[31]},\"y\":{\"__ndarray__\":\"AAAAAAAAAAAAAAAAAAAAAAAAAAAAAAAAAAAAAAAAAAAAAAAAAAAAAAAAAAAAAAAAAAAAAAAAAADFnWOBL7HxPwAXAeShmjRAq1vhL06ORkD5nsNA8t5LQKLd82V5QEpAKijO6fgWRUBtxQcidYQ+QPUtTYFygDRAn5VqV4sQKkDHwJ37dr8fQGwjG6amrxJA9pzYBlxkBUDGNcAAxO33P0Fq1RtbP+o/7CocAAJQ3D9VkpBtrxnOP/CmbdURmb8/6AZVKZVmsD/UHFnjc9ugP8cB/U9jLJE/lcr/EDxbgT+vAt9kSWpxP/rpY0ImXGE/vsL/Z58zUT8=\",\"dtype\":\"float64\",\"shape\":[31]}},\"selected\":{\"id\":\"7044\",\"type\":\"Selection\"},\"selection_policy\":{\"id\":\"7045\",\"type\":\"UnionRenderers\"}},\"id\":\"6791\",\"type\":\"ColumnDataSource\"},{\"attributes\":{},\"id\":\"6774\",\"type\":\"WheelZoomTool\"},{\"attributes\":{\"overlay\":{\"id\":\"7046\",\"type\":\"BoxAnnotation\"}},\"id\":\"6775\",\"type\":\"BoxZoomTool\"},{\"attributes\":{},\"id\":\"6776\",\"type\":\"SaveTool\"},{\"attributes\":{},\"id\":\"6777\",\"type\":\"ResetTool\"},{\"attributes\":{\"callback\":null},\"id\":\"6757\",\"type\":\"DataRange1d\"},{\"attributes\":{\"dimension\":1,\"ticker\":{\"id\":\"6769\",\"type\":\"BasicTicker\"}},\"id\":\"6772\",\"type\":\"Grid\"},{\"attributes\":{\"callback\":null},\"id\":\"6755\",\"type\":\"DataRange1d\"},{\"attributes\":{\"ticker\":{\"id\":\"6764\",\"type\":\"BasicTicker\"}},\"id\":\"6767\",\"type\":\"Grid\"},{\"attributes\":{\"bottom_units\":\"screen\",\"fill_alpha\":{\"value\":0.5},\"fill_color\":{\"value\":\"lightgrey\"},\"left_units\":\"screen\",\"level\":\"overlay\",\"line_alpha\":{\"value\":1.0},\"line_color\":{\"value\":\"black\"},\"line_dash\":[4,4],\"line_width\":{\"value\":2},\"render_mode\":\"css\",\"right_units\":\"screen\",\"top_units\":\"screen\"},\"id\":\"7046\",\"type\":\"BoxAnnotation\"}],\"root_ids\":[\"6754\"]},\"title\":\"Bokeh Application\",\"version\":\"1.4.0\"}};\n",
       "  var render_items = [{\"docid\":\"9f306885-fe61-40ce-9e8e-924f08aa3937\",\"roots\":{\"6754\":\"5e793416-cbcd-4fc6-af54-6cdc71055698\"}}];\n",
       "  root.Bokeh.embed.embed_items_notebook(docs_json, render_items);\n",
       "\n",
       "  }\n",
       "  if (root.Bokeh !== undefined) {\n",
       "    embed_document(root);\n",
       "  } else {\n",
       "    var attempts = 0;\n",
       "    var timer = setInterval(function(root) {\n",
       "      if (root.Bokeh !== undefined) {\n",
       "        clearInterval(timer);\n",
       "        embed_document(root);\n",
       "      } else {\n",
       "        attempts++;\n",
       "        if (attempts > 100) {\n",
       "          clearInterval(timer);\n",
       "          console.log(\"Bokeh: ERROR: Unable to run BokehJS code because BokehJS library is missing\");\n",
       "        }\n",
       "      }\n",
       "    }, 10, root)\n",
       "  }\n",
       "})(window);"
      ],
      "application/vnd.bokehjs_exec.v0+json": ""
     },
     "metadata": {
      "application/vnd.bokehjs_exec.v0+json": {
       "id": "6754"
      }
     },
     "output_type": "display_data"
    }
   ],
   "source": [
    "fig = figure(width=700, height=450)\n",
    "(Vs, ST) = SLIF2(V_reset = -5, V_thres = 16, seed=12345, V_bits=4, tau = 19, tau_r = 10, dur = 10000, input_type=('constant',''))\n",
    "ISI = ST[1:-1] - ST[0:-2]\n",
    "hist, edges = np.histogram(ISI, bins=30, range=(0,100))\n",
    "fig.quad(top=hist, bottom=0, fill_color='black', line_color='grey', left=edges[:-1], right=edges[1:])\n",
    "fig.line(edges, 1000*gamma.pdf(edges, 4, scale=4, loc=22), line_width=8, alpha=0.7)\n",
    "show(fig)"
   ]
  },
  {
   "cell_type": "code",
   "execution_count": null,
   "metadata": {},
   "outputs": [],
   "source": []
  }
 ],
 "metadata": {
  "kernelspec": {
   "display_name": "Python 2",
   "language": "python",
   "name": "python2"
  },
  "language_info": {
   "codemirror_mode": {
    "name": "ipython",
    "version": 2
   },
   "file_extension": ".py",
   "mimetype": "text/x-python",
   "name": "python",
   "nbconvert_exporter": "python",
   "pygments_lexer": "ipython2",
   "version": "2.7.17"
  }
 },
 "nbformat": 4,
 "nbformat_minor": 2
}
